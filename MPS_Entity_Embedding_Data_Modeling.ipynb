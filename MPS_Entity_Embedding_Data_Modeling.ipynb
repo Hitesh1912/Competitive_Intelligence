{
  "nbformat": 4,
  "nbformat_minor": 0,
  "metadata": {
    "colab": {
      "name": "MPS: Entity Embedding Data Modeling.ipynb",
      "version": "0.3.2",
      "provenance": [],
      "collapsed_sections": [
        "aXZ-drvX4QrV"
      ],
      "machine_shape": "hm"
    },
    "language_info": {
      "name": "python",
      "version": "3.6.4",
      "mimetype": "text/x-python",
      "codemirror_mode": {
        "name": "ipython",
        "version": 3
      },
      "pygments_lexer": "ipython3",
      "nbconvert_exporter": "python",
      "file_extension": ".py"
    },
    "kernelspec": {
      "name": "python3",
      "display_name": "Python 3"
    },
    "accelerator": "GPU"
  },
  "cells": [
    {
      "cell_type": "code",
      "metadata": {
        "id": "9YcLNOTSq2C5",
        "colab_type": "code",
        "outputId": "1e2883b3-c1f2-47df-feef-186f3a4e097a",
        "colab": {
          "base_uri": "https://localhost:8080/",
          "height": 122
        }
      },
      "source": [
        "# Don't run if not running in Google Colab\n",
        "from google.colab import drive\n",
        "drive.mount('/content/gdrive')"
      ],
      "execution_count": 0,
      "outputs": [
        {
          "output_type": "stream",
          "text": [
            "Go to this URL in a browser: https://accounts.google.com/o/oauth2/auth?client_id=947318989803-6bn6qk8qdgf4n4g3pfee6491hc0brc4i.apps.googleusercontent.com&redirect_uri=urn%3Aietf%3Awg%3Aoauth%3A2.0%3Aoob&scope=email%20https%3A%2F%2Fwww.googleapis.com%2Fauth%2Fdocs.test%20https%3A%2F%2Fwww.googleapis.com%2Fauth%2Fdrive%20https%3A%2F%2Fwww.googleapis.com%2Fauth%2Fdrive.photos.readonly%20https%3A%2F%2Fwww.googleapis.com%2Fauth%2Fpeopleapi.readonly&response_type=code\n",
            "\n",
            "Enter your authorization code:\n",
            "··········\n",
            "Mounted at /content/gdrive\n"
          ],
          "name": "stdout"
        }
      ]
    },
    {
      "cell_type": "markdown",
      "metadata": {
        "id": "nZMPp5QmCPGS",
        "colab_type": "text"
      },
      "source": [
        "Input data files are available in the \"../mercari-price-suggestion-challenge/\" directory.\n",
        "**NOTE**: Please modify the absolute path before /mercari-price-suggestion-challenge accordingly\n",
        "\n",
        "For example, running this (by clicking run or pressing Shift+Enter) will list the files in the mercari-price-suggestion-challenge directory"
      ]
    },
    {
      "cell_type": "code",
      "metadata": {
        "_uuid": "8f2839f25d086af736a60e9eeb907d3b93b6e0e5",
        "_cell_guid": "b1076dfc-b9ad-4769-8c92-a6c4dae69d19",
        "trusted": true,
        "id": "bEC0wv0PqqK2",
        "colab_type": "code",
        "outputId": "52f27b79-4515-43cd-c634-cea3ca9cf09b",
        "colab": {
          "base_uri": "https://localhost:8080/",
          "height": 71
        }
      },
      "source": [
        "import math\n",
        "import time\n",
        "import numpy as np\n",
        "import pandas as pd\n",
        "import matplotlib.pyplot as plt\n",
        "import dask.dataframe as dd\n",
        "import pydot_ng as pydot\n",
        "\n",
        "import gensim\n",
        "import string\n",
        "import re\n",
        "from gensim.models import KeyedVectors\n",
        "\n",
        "from sklearn import metrics, linear_model\n",
        "from sklearn.model_selection import train_test_split, cross_val_score, cross_val_predict\n",
        "from sklearn.preprocessing import StandardScaler\n",
        "\n",
        "from keras.models import Sequential, Model, load_model\n",
        "from keras.models import Model as KerasModel\n",
        "from keras.layers import Input, Dense, Activation, Reshape, Conv1D, Flatten, MaxPooling1D\n",
        "from keras.layers import Concatenate, Dropout\n",
        "from keras.layers.embeddings import Embedding\n",
        "from keras.callbacks import ModelCheckpoint, EarlyStopping, ReduceLROnPlateau, History\n",
        "from keras.utils import plot_model\n",
        "import keras\n",
        "import keras.backend as K\n",
        "\n",
        "# Input data files are available in the \"../mercari-price-suggestion-challenge/\" directory.\n",
        "# NOTE: Please modify the absolute path before /mercari-price-suggestion-challenge accordingly\n",
        "\n",
        "# For example, running this (by clicking run or pressing Shift+Enter) will list the files in the mercari-price-suggestion-challenge directory\n",
        "\n",
        "import os\n",
        "print(os.listdir(\"/content/gdrive/My Drive/DMT/mercari-price-suggestion-challenge\"))\n",
        "input_folder = '/content/gdrive/My Drive/DMT/mercari-price-suggestion-challenge/'\n",
        "\n",
        "# Any results you write to the current directory are saved as output."
      ],
      "execution_count": 0,
      "outputs": [
        {
          "output_type": "stream",
          "text": [
            "Using TensorFlow backend.\n"
          ],
          "name": "stderr"
        },
        {
          "output_type": "stream",
          "text": [
            "['sample_submission.csv.7z', 'sample_submission_stg2.csv', 'train.tsv', 'test.tsv', 'train.pkl', 'model.best.weights.hdf5', 'train_word2vec.pkl', 'model.png', 'train_xgboost.pkl', 'dumps', 'model_word2vec.best.weights.hdf5']\n"
          ],
          "name": "stdout"
        }
      ]
    },
    {
      "cell_type": "markdown",
      "metadata": {
        "id": "aXZ-drvX4QrV",
        "colab_type": "text"
      },
      "source": [
        "# 1. Load saved pickle and [skip till this cell](https://colab.research.google.com/drive/15-uCrPDef7kByQndWkC7JMH3-g3xOU_f?authuser=1#scrollTo=266Lf1n_6YMs)"
      ]
    },
    {
      "cell_type": "code",
      "metadata": {
        "id": "BIM-xJgb4OcF",
        "colab_type": "code",
        "colab": {}
      },
      "source": [
        "data = pd.read_pickle(input_folder + 'dumps/whole_data_word2vec.pkl')"
      ],
      "execution_count": 0,
      "outputs": []
    },
    {
      "cell_type": "markdown",
      "metadata": {
        "id": "aEkiuDyH7uv3",
        "colab_type": "text"
      },
      "source": [
        "[Click here](https://colab.research.google.com/drive/15-uCrPDef7kByQndWkC7JMH3-g3xOU_f?authuser=1#scrollTo=266Lf1n_6YMs) to skip if you ran the above cell. **If not**, proceed to run normally and the program will compute the *whole_data_word2vec* pickle file"
      ]
    },
    {
      "cell_type": "markdown",
      "metadata": {
        "id": "HPoAk9kPqqK6",
        "colab_type": "text"
      },
      "source": [
        "# 2. Data Preparation"
      ]
    },
    {
      "cell_type": "code",
      "metadata": {
        "id": "0YSQiGz6UkhR",
        "colab_type": "code",
        "colab": {}
      },
      "source": [
        "# Load saved preprocessed train data and skip Data Preprocessing and Data Wrangling\n",
        "train_ids = pd.read_pickle(input_folder + 'dumps/train_data.pkl')['train_id'].tolist()\n",
        "val_ids = pd.read_pickle(input_folder + 'dumps/validation_data.pkl')['train_id'].tolist()\n",
        "test_ids = pd.read_pickle(input_folder + 'dumps/test_data.pkl')['train_id'].tolist()\n",
        "data = pd.read_pickle(input_folder + 'dumps/whole_data.pkl').drop(labels=['item_condition_id_1', 'item_condition_id_2', 'item_condition_id_3', 'item_condition_id_4', 'item_condition_id_5'], axis=1)"
      ],
      "execution_count": 0,
      "outputs": []
    },
    {
      "cell_type": "markdown",
      "metadata": {
        "id": "dMqI8EGhIb-V",
        "colab_type": "text"
      },
      "source": [
        "### Creating word embeddings  using word2vec\n",
        "\n"
      ]
    },
    {
      "cell_type": "code",
      "metadata": {
        "id": "8RTicjY9KN4F",
        "colab_type": "code",
        "colab": {}
      },
      "source": [
        "# Function to preprocess text for word2vec\n",
        "def textPreProcessing(allText): \n",
        "    #remove newlines with space\n",
        "    allText = allText.lower().replace(\"\\n\", \" \")\n",
        "    #remove punctuation\n",
        "    allText = allText.translate({ord(c): None for c in string.punctuation})\n",
        "    #remove multiple spaces\n",
        "    allText = re.sub(\" +\", \" \", allText)\n",
        "    #tokenize\n",
        "    tokens = allText.split(' ')\n",
        "    return tokens"
      ],
      "execution_count": 0,
      "outputs": []
    },
    {
      "cell_type": "code",
      "metadata": {
        "id": "sBVStyDiJftj",
        "colab_type": "code",
        "colab": {}
      },
      "source": [
        "# train_data['name'] = train_data.name.str.translate({ord(c): ' ' for c in string.punctuation})\n",
        "data['name'] = data.name.apply(lambda x: textPreProcessing(x))\n",
        "data['item_description'] = data.item_description.apply(lambda x: textPreProcessing(x))"
      ],
      "execution_count": 0,
      "outputs": []
    },
    {
      "cell_type": "code",
      "metadata": {
        "id": "u-vVQIzPHfNU",
        "colab_type": "code",
        "colab": {}
      },
      "source": [
        "def word_embeddings(word2VecModel, allTextList, dim=100):\n",
        "    word2Vec = word2VecModel.vocab.keys()\n",
        "    wordVector = [np.zeros(dim)]\n",
        "    for word in allTextList:\n",
        "      if word in word2Vec:\n",
        "        wordVector.append(word2VecModel[word][:dim])\n",
        "    wordVector = np.mean(wordVector, axis=0)\n",
        "    return wordVector"
      ],
      "execution_count": 0,
      "outputs": []
    },
    {
      "cell_type": "code",
      "metadata": {
        "id": "r4Cb0cqlH956",
        "colab_type": "code",
        "outputId": "b25b5d46-065a-4485-b662-f752152cb076",
        "colab": {
          "base_uri": "https://localhost:8080/",
          "height": 71
        }
      },
      "source": [
        "word2VecModel = gensim.models.KeyedVectors.load_word2vec_format(input_folder + 'wiki.en.bin.bin', binary = True )"
      ],
      "execution_count": 0,
      "outputs": [
        {
          "output_type": "stream",
          "text": [
            "/usr/local/lib/python3.6/dist-packages/smart_open/smart_open_lib.py:398: UserWarning: This function is deprecated, use smart_open.open instead. See the migration notes for details: https://github.com/RaRe-Technologies/smart_open/blob/master/README.rst#migrating-to-the-new-open-function\n",
            "  'See the migration notes for details: %s' % _MIGRATION_NOTES_URL\n"
          ],
          "name": "stderr"
        }
      ]
    },
    {
      "cell_type": "code",
      "metadata": {
        "id": "R0Q28dvZICYZ",
        "colab_type": "code",
        "colab": {}
      },
      "source": [
        "# Convert & expand columns 'name' & 'item_description' to 100 dim word vectore for each columns. This results in 200 extra columns\n",
        "data = pd.concat((data, data.apply(lambda x: word_embeddings(word2VecModel, x['name']), axis = 1, result_type='expand'), data.apply(lambda x: word_embeddings(word2VecModel, x['item_description']), axis = 1, result_type='expand')), axis=1)\n",
        "del word2VecModel\n",
        "data.to_pickle(input_folder + 'dumps/whole_data_word2vec.pkl')"
      ],
      "execution_count": 0,
      "outputs": []
    },
    {
      "cell_type": "markdown",
      "metadata": {
        "id": "266Lf1n_6YMs",
        "colab_type": "text"
      },
      "source": [
        "<a id='restore_word2vec_data'></a>\n",
        "Now, removing 'name' & 'item_description' from our data"
      ]
    },
    {
      "cell_type": "code",
      "metadata": {
        "id": "LajcCW4EjPOp",
        "colab_type": "code",
        "colab": {}
      },
      "source": [
        "data.drop(['name', 'item_description'], axis=1, inplace=True)"
      ],
      "execution_count": 0,
      "outputs": []
    },
    {
      "cell_type": "markdown",
      "metadata": {
        "id": "tick7WgP6Tv0",
        "colab_type": "text"
      },
      "source": [
        "### Convert Categorical features into continuous features using Entity Embedding:  Embedding Preparation (Step 1)"
      ]
    },
    {
      "cell_type": "markdown",
      "metadata": {
        "id": "lovcAT68A2jA",
        "colab_type": "text"
      },
      "source": [
        "### Sub-Feature Space"
      ]
    },
    {
      "cell_type": "code",
      "metadata": {
        "id": "1xzcR2fDn5Rv",
        "colab_type": "code",
        "colab": {}
      },
      "source": [
        "# rename duplicate columns of word2vec \n",
        "cols = pd.io.parsers.ParserBase({'names':data.columns})._maybe_dedup_names(data.columns)\n",
        "data.columns = cols"
      ],
      "execution_count": 0,
      "outputs": []
    },
    {
      "cell_type": "code",
      "metadata": {
        "id": "_c-jyc71tk_a",
        "colab_type": "code",
        "outputId": "f2e41f99-aeff-4fb7-93e1-131925ad3f55",
        "colab": {
          "base_uri": "https://localhost:8080/",
          "height": 304
        }
      },
      "source": [
        "data.head()"
      ],
      "execution_count": 0,
      "outputs": [
        {
          "output_type": "execute_result",
          "data": {
            "text/html": [
              "<div>\n",
              "<style scoped>\n",
              "    .dataframe tbody tr th:only-of-type {\n",
              "        vertical-align: middle;\n",
              "    }\n",
              "\n",
              "    .dataframe tbody tr th {\n",
              "        vertical-align: top;\n",
              "    }\n",
              "\n",
              "    .dataframe thead th {\n",
              "        text-align: right;\n",
              "    }\n",
              "</style>\n",
              "<table border=\"1\" class=\"dataframe\">\n",
              "  <thead>\n",
              "    <tr style=\"text-align: right;\">\n",
              "      <th></th>\n",
              "      <th>train_id</th>\n",
              "      <th>item_condition_id</th>\n",
              "      <th>category_name</th>\n",
              "      <th>price</th>\n",
              "      <th>shipping</th>\n",
              "      <th>item_description_readability_score</th>\n",
              "      <th>desc_len</th>\n",
              "      <th>name_len</th>\n",
              "      <th>cat_1</th>\n",
              "      <th>cat_2</th>\n",
              "      <th>cat_3</th>\n",
              "      <th>0</th>\n",
              "      <th>1</th>\n",
              "      <th>2</th>\n",
              "      <th>3</th>\n",
              "      <th>4</th>\n",
              "      <th>5</th>\n",
              "      <th>6</th>\n",
              "      <th>7</th>\n",
              "      <th>8</th>\n",
              "      <th>9</th>\n",
              "      <th>10</th>\n",
              "      <th>11</th>\n",
              "      <th>12</th>\n",
              "      <th>13</th>\n",
              "      <th>14</th>\n",
              "      <th>15</th>\n",
              "      <th>16</th>\n",
              "      <th>17</th>\n",
              "      <th>18</th>\n",
              "      <th>19</th>\n",
              "      <th>20</th>\n",
              "      <th>21</th>\n",
              "      <th>22</th>\n",
              "      <th>23</th>\n",
              "      <th>24</th>\n",
              "      <th>25</th>\n",
              "      <th>26</th>\n",
              "      <th>27</th>\n",
              "      <th>28</th>\n",
              "      <th>...</th>\n",
              "      <th>60.1</th>\n",
              "      <th>61.1</th>\n",
              "      <th>62.1</th>\n",
              "      <th>63.1</th>\n",
              "      <th>64.1</th>\n",
              "      <th>65.1</th>\n",
              "      <th>66.1</th>\n",
              "      <th>67.1</th>\n",
              "      <th>68.1</th>\n",
              "      <th>69.1</th>\n",
              "      <th>70.1</th>\n",
              "      <th>71.1</th>\n",
              "      <th>72.1</th>\n",
              "      <th>73.1</th>\n",
              "      <th>74.1</th>\n",
              "      <th>75.1</th>\n",
              "      <th>76.1</th>\n",
              "      <th>77.1</th>\n",
              "      <th>78.1</th>\n",
              "      <th>79.1</th>\n",
              "      <th>80.1</th>\n",
              "      <th>81.1</th>\n",
              "      <th>82.1</th>\n",
              "      <th>83.1</th>\n",
              "      <th>84.1</th>\n",
              "      <th>85.1</th>\n",
              "      <th>86.1</th>\n",
              "      <th>87.1</th>\n",
              "      <th>88.1</th>\n",
              "      <th>89.1</th>\n",
              "      <th>90.1</th>\n",
              "      <th>91.1</th>\n",
              "      <th>92.1</th>\n",
              "      <th>93.1</th>\n",
              "      <th>94.1</th>\n",
              "      <th>95.1</th>\n",
              "      <th>96.1</th>\n",
              "      <th>97.1</th>\n",
              "      <th>98.1</th>\n",
              "      <th>99.1</th>\n",
              "    </tr>\n",
              "  </thead>\n",
              "  <tbody>\n",
              "    <tr>\n",
              "      <th>0</th>\n",
              "      <td>0</td>\n",
              "      <td>3</td>\n",
              "      <td>Men/Tops/T-shirts</td>\n",
              "      <td>-0.435170</td>\n",
              "      <td>1</td>\n",
              "      <td>99.00</td>\n",
              "      <td>1</td>\n",
              "      <td>7</td>\n",
              "      <td>Men</td>\n",
              "      <td>Tops</td>\n",
              "      <td>T-shirts</td>\n",
              "      <td>-0.047076</td>\n",
              "      <td>0.055123</td>\n",
              "      <td>0.096776</td>\n",
              "      <td>0.327872</td>\n",
              "      <td>-0.053400</td>\n",
              "      <td>-0.164231</td>\n",
              "      <td>0.123480</td>\n",
              "      <td>-0.097724</td>\n",
              "      <td>-0.025514</td>\n",
              "      <td>0.036671</td>\n",
              "      <td>0.278410</td>\n",
              "      <td>0.087304</td>\n",
              "      <td>-0.119336</td>\n",
              "      <td>0.021578</td>\n",
              "      <td>0.170031</td>\n",
              "      <td>-0.068347</td>\n",
              "      <td>-0.262792</td>\n",
              "      <td>0.085220</td>\n",
              "      <td>0.135382</td>\n",
              "      <td>0.257197</td>\n",
              "      <td>-0.033343</td>\n",
              "      <td>0.030893</td>\n",
              "      <td>-0.139916</td>\n",
              "      <td>-0.137116</td>\n",
              "      <td>0.101204</td>\n",
              "      <td>0.001052</td>\n",
              "      <td>-0.011945</td>\n",
              "      <td>-0.104977</td>\n",
              "      <td>-0.028738</td>\n",
              "      <td>...</td>\n",
              "      <td>0.000000</td>\n",
              "      <td>0.000000</td>\n",
              "      <td>0.000000</td>\n",
              "      <td>0.000000</td>\n",
              "      <td>0.000000</td>\n",
              "      <td>0.000000</td>\n",
              "      <td>0.000000</td>\n",
              "      <td>0.000000</td>\n",
              "      <td>0.000000</td>\n",
              "      <td>0.000000</td>\n",
              "      <td>0.000000</td>\n",
              "      <td>0.000000</td>\n",
              "      <td>0.000000</td>\n",
              "      <td>0.000000</td>\n",
              "      <td>0.000000</td>\n",
              "      <td>0.000000</td>\n",
              "      <td>0.000000</td>\n",
              "      <td>0.000000</td>\n",
              "      <td>0.000000</td>\n",
              "      <td>0.000000</td>\n",
              "      <td>0.000000</td>\n",
              "      <td>0.000000</td>\n",
              "      <td>0.000000</td>\n",
              "      <td>0.000000</td>\n",
              "      <td>0.000000</td>\n",
              "      <td>0.000000</td>\n",
              "      <td>0.000000</td>\n",
              "      <td>0.000000</td>\n",
              "      <td>0.000000</td>\n",
              "      <td>0.000000</td>\n",
              "      <td>0.000000</td>\n",
              "      <td>0.000000</td>\n",
              "      <td>0.000000</td>\n",
              "      <td>0.000000</td>\n",
              "      <td>0.000000</td>\n",
              "      <td>0.000000</td>\n",
              "      <td>0.000000</td>\n",
              "      <td>0.000000</td>\n",
              "      <td>0.000000</td>\n",
              "      <td>0.000000</td>\n",
              "    </tr>\n",
              "    <tr>\n",
              "      <th>1</th>\n",
              "      <td>1</td>\n",
              "      <td>3</td>\n",
              "      <td>Electronics/Computers &amp; Tablets/Components &amp; P...</td>\n",
              "      <td>0.656049</td>\n",
              "      <td>0</td>\n",
              "      <td>8.13</td>\n",
              "      <td>36</td>\n",
              "      <td>5</td>\n",
              "      <td>Electronics</td>\n",
              "      <td>Computers &amp; Tablets</td>\n",
              "      <td>Components &amp; Parts</td>\n",
              "      <td>-0.120774</td>\n",
              "      <td>0.074269</td>\n",
              "      <td>-0.030055</td>\n",
              "      <td>0.025553</td>\n",
              "      <td>-0.201962</td>\n",
              "      <td>-0.062714</td>\n",
              "      <td>0.062537</td>\n",
              "      <td>-0.079967</td>\n",
              "      <td>0.040506</td>\n",
              "      <td>-0.000242</td>\n",
              "      <td>-0.121404</td>\n",
              "      <td>-0.110225</td>\n",
              "      <td>-0.192543</td>\n",
              "      <td>0.092441</td>\n",
              "      <td>0.236934</td>\n",
              "      <td>-0.005942</td>\n",
              "      <td>0.196020</td>\n",
              "      <td>-0.008345</td>\n",
              "      <td>0.047493</td>\n",
              "      <td>0.249163</td>\n",
              "      <td>-0.034059</td>\n",
              "      <td>0.198465</td>\n",
              "      <td>-0.045585</td>\n",
              "      <td>-0.253211</td>\n",
              "      <td>-0.335730</td>\n",
              "      <td>-0.180222</td>\n",
              "      <td>-0.164575</td>\n",
              "      <td>0.075460</td>\n",
              "      <td>0.113512</td>\n",
              "      <td>...</td>\n",
              "      <td>0.003353</td>\n",
              "      <td>-0.038637</td>\n",
              "      <td>0.157240</td>\n",
              "      <td>-0.036119</td>\n",
              "      <td>-0.045491</td>\n",
              "      <td>-0.108587</td>\n",
              "      <td>-0.072237</td>\n",
              "      <td>0.012078</td>\n",
              "      <td>-0.098535</td>\n",
              "      <td>-0.013373</td>\n",
              "      <td>-0.030974</td>\n",
              "      <td>0.013579</td>\n",
              "      <td>0.136929</td>\n",
              "      <td>-0.073364</td>\n",
              "      <td>-0.120016</td>\n",
              "      <td>0.062757</td>\n",
              "      <td>0.126728</td>\n",
              "      <td>0.174966</td>\n",
              "      <td>0.015804</td>\n",
              "      <td>-0.064356</td>\n",
              "      <td>0.096281</td>\n",
              "      <td>0.051810</td>\n",
              "      <td>-0.082231</td>\n",
              "      <td>0.058357</td>\n",
              "      <td>-0.034755</td>\n",
              "      <td>-0.016786</td>\n",
              "      <td>0.001092</td>\n",
              "      <td>0.065343</td>\n",
              "      <td>-0.037469</td>\n",
              "      <td>-0.078727</td>\n",
              "      <td>0.023271</td>\n",
              "      <td>0.045434</td>\n",
              "      <td>0.218250</td>\n",
              "      <td>-0.214543</td>\n",
              "      <td>0.151894</td>\n",
              "      <td>-0.005827</td>\n",
              "      <td>0.050133</td>\n",
              "      <td>0.017548</td>\n",
              "      <td>-0.006065</td>\n",
              "      <td>0.026098</td>\n",
              "    </tr>\n",
              "    <tr>\n",
              "      <th>2</th>\n",
              "      <td>2</td>\n",
              "      <td>1</td>\n",
              "      <td>Women/Tops &amp; Blouses/Blouse</td>\n",
              "      <td>-0.435170</td>\n",
              "      <td>1</td>\n",
              "      <td>5.80</td>\n",
              "      <td>29</td>\n",
              "      <td>3</td>\n",
              "      <td>Women</td>\n",
              "      <td>Tops &amp; Blouses</td>\n",
              "      <td>Blouse</td>\n",
              "      <td>-0.006465</td>\n",
              "      <td>0.141957</td>\n",
              "      <td>-0.238290</td>\n",
              "      <td>0.147485</td>\n",
              "      <td>0.055197</td>\n",
              "      <td>0.094854</td>\n",
              "      <td>-0.036636</td>\n",
              "      <td>0.084593</td>\n",
              "      <td>0.201683</td>\n",
              "      <td>0.078710</td>\n",
              "      <td>0.044293</td>\n",
              "      <td>-0.031158</td>\n",
              "      <td>-0.118623</td>\n",
              "      <td>0.040195</td>\n",
              "      <td>0.145833</td>\n",
              "      <td>-0.082050</td>\n",
              "      <td>0.004320</td>\n",
              "      <td>-0.073832</td>\n",
              "      <td>0.243750</td>\n",
              "      <td>0.285230</td>\n",
              "      <td>0.056097</td>\n",
              "      <td>0.049053</td>\n",
              "      <td>-0.012986</td>\n",
              "      <td>0.044872</td>\n",
              "      <td>0.093857</td>\n",
              "      <td>0.025824</td>\n",
              "      <td>0.053050</td>\n",
              "      <td>0.129570</td>\n",
              "      <td>0.017823</td>\n",
              "      <td>...</td>\n",
              "      <td>-0.003588</td>\n",
              "      <td>-0.092107</td>\n",
              "      <td>0.160697</td>\n",
              "      <td>-0.082413</td>\n",
              "      <td>-0.039508</td>\n",
              "      <td>-0.140503</td>\n",
              "      <td>-0.165885</td>\n",
              "      <td>0.025680</td>\n",
              "      <td>-0.086208</td>\n",
              "      <td>0.045485</td>\n",
              "      <td>-0.145674</td>\n",
              "      <td>-0.069647</td>\n",
              "      <td>0.032995</td>\n",
              "      <td>-0.136541</td>\n",
              "      <td>-0.073738</td>\n",
              "      <td>-0.010755</td>\n",
              "      <td>0.111959</td>\n",
              "      <td>0.116104</td>\n",
              "      <td>-0.021502</td>\n",
              "      <td>0.002786</td>\n",
              "      <td>0.025296</td>\n",
              "      <td>-0.020523</td>\n",
              "      <td>-0.088607</td>\n",
              "      <td>-0.049129</td>\n",
              "      <td>-0.074163</td>\n",
              "      <td>-0.042309</td>\n",
              "      <td>-0.040612</td>\n",
              "      <td>0.000737</td>\n",
              "      <td>-0.017215</td>\n",
              "      <td>-0.093759</td>\n",
              "      <td>-0.038437</td>\n",
              "      <td>-0.044795</td>\n",
              "      <td>0.142766</td>\n",
              "      <td>-0.126110</td>\n",
              "      <td>0.110071</td>\n",
              "      <td>0.016851</td>\n",
              "      <td>0.059525</td>\n",
              "      <td>0.116074</td>\n",
              "      <td>-0.080349</td>\n",
              "      <td>0.021306</td>\n",
              "    </tr>\n",
              "    <tr>\n",
              "      <th>3</th>\n",
              "      <td>3</td>\n",
              "      <td>1</td>\n",
              "      <td>Home/Home Décor/Home Décor Accents</td>\n",
              "      <td>0.214365</td>\n",
              "      <td>1</td>\n",
              "      <td>2.12</td>\n",
              "      <td>32</td>\n",
              "      <td>3</td>\n",
              "      <td>Home</td>\n",
              "      <td>Home Décor</td>\n",
              "      <td>Home Décor Accents</td>\n",
              "      <td>0.040486</td>\n",
              "      <td>0.072910</td>\n",
              "      <td>-0.064110</td>\n",
              "      <td>0.221228</td>\n",
              "      <td>-0.012104</td>\n",
              "      <td>0.212159</td>\n",
              "      <td>-0.067450</td>\n",
              "      <td>-0.134002</td>\n",
              "      <td>0.118982</td>\n",
              "      <td>0.148352</td>\n",
              "      <td>0.106880</td>\n",
              "      <td>0.146617</td>\n",
              "      <td>0.014503</td>\n",
              "      <td>0.045757</td>\n",
              "      <td>0.174585</td>\n",
              "      <td>0.002362</td>\n",
              "      <td>-0.070346</td>\n",
              "      <td>0.041782</td>\n",
              "      <td>-0.009823</td>\n",
              "      <td>0.125930</td>\n",
              "      <td>0.006232</td>\n",
              "      <td>-0.130985</td>\n",
              "      <td>-0.276471</td>\n",
              "      <td>0.055807</td>\n",
              "      <td>0.003177</td>\n",
              "      <td>-0.086490</td>\n",
              "      <td>0.036153</td>\n",
              "      <td>-0.011490</td>\n",
              "      <td>0.081834</td>\n",
              "      <td>...</td>\n",
              "      <td>-0.055100</td>\n",
              "      <td>-0.103526</td>\n",
              "      <td>0.173241</td>\n",
              "      <td>-0.062109</td>\n",
              "      <td>0.028187</td>\n",
              "      <td>-0.071492</td>\n",
              "      <td>-0.145623</td>\n",
              "      <td>0.103997</td>\n",
              "      <td>-0.098056</td>\n",
              "      <td>-0.034283</td>\n",
              "      <td>-0.030356</td>\n",
              "      <td>0.036376</td>\n",
              "      <td>0.160841</td>\n",
              "      <td>-0.136764</td>\n",
              "      <td>-0.049553</td>\n",
              "      <td>0.040392</td>\n",
              "      <td>0.189657</td>\n",
              "      <td>0.155428</td>\n",
              "      <td>0.025785</td>\n",
              "      <td>-0.072665</td>\n",
              "      <td>0.114834</td>\n",
              "      <td>0.054884</td>\n",
              "      <td>-0.076146</td>\n",
              "      <td>-0.028510</td>\n",
              "      <td>-0.047560</td>\n",
              "      <td>-0.018541</td>\n",
              "      <td>-0.021588</td>\n",
              "      <td>0.053808</td>\n",
              "      <td>0.006598</td>\n",
              "      <td>-0.070150</td>\n",
              "      <td>0.029136</td>\n",
              "      <td>-0.057160</td>\n",
              "      <td>0.148940</td>\n",
              "      <td>-0.159945</td>\n",
              "      <td>0.097450</td>\n",
              "      <td>0.151162</td>\n",
              "      <td>0.020571</td>\n",
              "      <td>-0.019095</td>\n",
              "      <td>-0.086801</td>\n",
              "      <td>0.045617</td>\n",
              "    </tr>\n",
              "    <tr>\n",
              "      <th>4</th>\n",
              "      <td>4</td>\n",
              "      <td>1</td>\n",
              "      <td>Women/Jewelry/Necklaces</td>\n",
              "      <td>0.448198</td>\n",
              "      <td>0</td>\n",
              "      <td>18.00</td>\n",
              "      <td>5</td>\n",
              "      <td>4</td>\n",
              "      <td>Women</td>\n",
              "      <td>Jewelry</td>\n",
              "      <td>Necklaces</td>\n",
              "      <td>0.112307</td>\n",
              "      <td>0.004079</td>\n",
              "      <td>-0.044416</td>\n",
              "      <td>0.120497</td>\n",
              "      <td>-0.011662</td>\n",
              "      <td>0.185782</td>\n",
              "      <td>0.026220</td>\n",
              "      <td>-0.208632</td>\n",
              "      <td>0.140207</td>\n",
              "      <td>0.068560</td>\n",
              "      <td>0.238925</td>\n",
              "      <td>0.084456</td>\n",
              "      <td>0.058310</td>\n",
              "      <td>-0.058165</td>\n",
              "      <td>0.189186</td>\n",
              "      <td>-0.193500</td>\n",
              "      <td>-0.243460</td>\n",
              "      <td>-0.195550</td>\n",
              "      <td>-0.266418</td>\n",
              "      <td>0.109663</td>\n",
              "      <td>0.006964</td>\n",
              "      <td>-0.048250</td>\n",
              "      <td>-0.108760</td>\n",
              "      <td>0.087225</td>\n",
              "      <td>-0.212959</td>\n",
              "      <td>-0.034300</td>\n",
              "      <td>0.039582</td>\n",
              "      <td>0.084704</td>\n",
              "      <td>0.114839</td>\n",
              "      <td>...</td>\n",
              "      <td>-0.073604</td>\n",
              "      <td>-0.096410</td>\n",
              "      <td>0.099351</td>\n",
              "      <td>-0.043521</td>\n",
              "      <td>-0.047153</td>\n",
              "      <td>-0.090752</td>\n",
              "      <td>-0.106993</td>\n",
              "      <td>0.039182</td>\n",
              "      <td>-0.105936</td>\n",
              "      <td>-0.084915</td>\n",
              "      <td>-0.081389</td>\n",
              "      <td>-0.009586</td>\n",
              "      <td>0.087161</td>\n",
              "      <td>-0.088486</td>\n",
              "      <td>0.013255</td>\n",
              "      <td>-0.058588</td>\n",
              "      <td>0.253675</td>\n",
              "      <td>0.121763</td>\n",
              "      <td>0.009180</td>\n",
              "      <td>-0.043005</td>\n",
              "      <td>0.204753</td>\n",
              "      <td>0.033616</td>\n",
              "      <td>-0.061259</td>\n",
              "      <td>-0.168861</td>\n",
              "      <td>-0.098418</td>\n",
              "      <td>-0.011999</td>\n",
              "      <td>0.015224</td>\n",
              "      <td>0.073108</td>\n",
              "      <td>-0.060641</td>\n",
              "      <td>-0.056723</td>\n",
              "      <td>-0.083615</td>\n",
              "      <td>0.040498</td>\n",
              "      <td>0.152760</td>\n",
              "      <td>-0.201911</td>\n",
              "      <td>0.039790</td>\n",
              "      <td>0.087265</td>\n",
              "      <td>-0.018196</td>\n",
              "      <td>0.043004</td>\n",
              "      <td>0.026020</td>\n",
              "      <td>0.029785</td>\n",
              "    </tr>\n",
              "  </tbody>\n",
              "</table>\n",
              "<p>5 rows × 211 columns</p>\n",
              "</div>"
            ],
            "text/plain": [
              "   train_id  item_condition_id  ...      98.1      99.1\n",
              "0         0                  3  ...  0.000000  0.000000\n",
              "1         1                  3  ... -0.006065  0.026098\n",
              "2         2                  1  ... -0.080349  0.021306\n",
              "3         3                  1  ... -0.086801  0.045617\n",
              "4         4                  1  ...  0.026020  0.029785\n",
              "\n",
              "[5 rows x 211 columns]"
            ]
          },
          "metadata": {
            "tags": []
          },
          "execution_count": 14
        }
      ]
    },
    {
      "cell_type": "code",
      "metadata": {
        "id": "s80Ug79-b9LU",
        "colab_type": "code",
        "colab": {}
      },
      "source": [
        "train_data = data.loc[train_ids]\n",
        "val_data = data.loc[val_ids]\n",
        "test_data = data.loc[test_ids]"
      ],
      "execution_count": 0,
      "outputs": []
    },
    {
      "cell_type": "code",
      "metadata": {
        "id": "VDd15j3BAvDu",
        "colab_type": "code",
        "colab": {}
      },
      "source": [
        "target = ['price']\n",
        "\n",
        "features = data.columns.tolist()\n",
        "features.remove(target[0])\n",
        "features.remove('train_id')\n",
        "features.remove('category_name')\n",
        "features.remove('name_len')\n",
        "features.remove('desc_len')\n",
        "\n",
        "embed_cols = ['cat_1', 'cat_2', 'cat_3', 'item_condition_id']\n",
        "contin_vars = features.copy()\n",
        "for feat in embed_cols:\n",
        "  contin_vars.remove(feat)"
      ],
      "execution_count": 0,
      "outputs": []
    },
    {
      "cell_type": "code",
      "metadata": {
        "id": "KcnWoaz6K4sy",
        "colab_type": "code",
        "colab": {}
      },
      "source": [
        "X_train, y_train, X_val, y_val, X_test, y_test = train_data[features], train_data[target], val_data[features], val_data[target], test_data[features], test_data[target]"
      ],
      "execution_count": 0,
      "outputs": []
    },
    {
      "cell_type": "code",
      "metadata": {
        "id": "M_IxpHPPMI1x",
        "colab_type": "code",
        "outputId": "0fe78ee1-88bd-4456-eace-80a3add01c53",
        "colab": {
          "base_uri": "https://localhost:8080/",
          "height": 338
        }
      },
      "source": [
        "X_val.head()"
      ],
      "execution_count": 0,
      "outputs": [
        {
          "output_type": "execute_result",
          "data": {
            "text/html": [
              "<div>\n",
              "<style scoped>\n",
              "    .dataframe tbody tr th:only-of-type {\n",
              "        vertical-align: middle;\n",
              "    }\n",
              "\n",
              "    .dataframe tbody tr th {\n",
              "        vertical-align: top;\n",
              "    }\n",
              "\n",
              "    .dataframe thead th {\n",
              "        text-align: right;\n",
              "    }\n",
              "</style>\n",
              "<table border=\"1\" class=\"dataframe\">\n",
              "  <thead>\n",
              "    <tr style=\"text-align: right;\">\n",
              "      <th></th>\n",
              "      <th>item_condition_id</th>\n",
              "      <th>shipping</th>\n",
              "      <th>item_description_readability_score</th>\n",
              "      <th>cat_1</th>\n",
              "      <th>cat_2</th>\n",
              "      <th>cat_3</th>\n",
              "      <th>0</th>\n",
              "      <th>1</th>\n",
              "      <th>2</th>\n",
              "      <th>3</th>\n",
              "      <th>4</th>\n",
              "      <th>5</th>\n",
              "      <th>6</th>\n",
              "      <th>7</th>\n",
              "      <th>8</th>\n",
              "      <th>9</th>\n",
              "      <th>10</th>\n",
              "      <th>11</th>\n",
              "      <th>12</th>\n",
              "      <th>13</th>\n",
              "      <th>14</th>\n",
              "      <th>15</th>\n",
              "      <th>16</th>\n",
              "      <th>17</th>\n",
              "      <th>18</th>\n",
              "      <th>19</th>\n",
              "      <th>20</th>\n",
              "      <th>21</th>\n",
              "      <th>22</th>\n",
              "      <th>23</th>\n",
              "      <th>24</th>\n",
              "      <th>25</th>\n",
              "      <th>26</th>\n",
              "      <th>27</th>\n",
              "      <th>28</th>\n",
              "      <th>29</th>\n",
              "      <th>30</th>\n",
              "      <th>31</th>\n",
              "      <th>32</th>\n",
              "      <th>33</th>\n",
              "      <th>...</th>\n",
              "      <th>60.1</th>\n",
              "      <th>61.1</th>\n",
              "      <th>62.1</th>\n",
              "      <th>63.1</th>\n",
              "      <th>64.1</th>\n",
              "      <th>65.1</th>\n",
              "      <th>66.1</th>\n",
              "      <th>67.1</th>\n",
              "      <th>68.1</th>\n",
              "      <th>69.1</th>\n",
              "      <th>70.1</th>\n",
              "      <th>71.1</th>\n",
              "      <th>72.1</th>\n",
              "      <th>73.1</th>\n",
              "      <th>74.1</th>\n",
              "      <th>75.1</th>\n",
              "      <th>76.1</th>\n",
              "      <th>77.1</th>\n",
              "      <th>78.1</th>\n",
              "      <th>79.1</th>\n",
              "      <th>80.1</th>\n",
              "      <th>81.1</th>\n",
              "      <th>82.1</th>\n",
              "      <th>83.1</th>\n",
              "      <th>84.1</th>\n",
              "      <th>85.1</th>\n",
              "      <th>86.1</th>\n",
              "      <th>87.1</th>\n",
              "      <th>88.1</th>\n",
              "      <th>89.1</th>\n",
              "      <th>90.1</th>\n",
              "      <th>91.1</th>\n",
              "      <th>92.1</th>\n",
              "      <th>93.1</th>\n",
              "      <th>94.1</th>\n",
              "      <th>95.1</th>\n",
              "      <th>96.1</th>\n",
              "      <th>97.1</th>\n",
              "      <th>98.1</th>\n",
              "      <th>99.1</th>\n",
              "    </tr>\n",
              "  </thead>\n",
              "  <tbody>\n",
              "    <tr>\n",
              "      <th>1365791</th>\n",
              "      <td>3</td>\n",
              "      <td>0</td>\n",
              "      <td>4.00</td>\n",
              "      <td>Beauty</td>\n",
              "      <td>Fragrance</td>\n",
              "      <td>Women</td>\n",
              "      <td>-0.012190</td>\n",
              "      <td>0.029873</td>\n",
              "      <td>-0.240805</td>\n",
              "      <td>0.198942</td>\n",
              "      <td>-0.100929</td>\n",
              "      <td>-0.035169</td>\n",
              "      <td>-0.015586</td>\n",
              "      <td>-0.027224</td>\n",
              "      <td>-0.007503</td>\n",
              "      <td>0.270154</td>\n",
              "      <td>0.051441</td>\n",
              "      <td>-0.042243</td>\n",
              "      <td>0.178979</td>\n",
              "      <td>-0.011001</td>\n",
              "      <td>-0.025115</td>\n",
              "      <td>-0.178549</td>\n",
              "      <td>-0.112389</td>\n",
              "      <td>-0.080231</td>\n",
              "      <td>-0.061040</td>\n",
              "      <td>0.201338</td>\n",
              "      <td>-0.082679</td>\n",
              "      <td>0.153556</td>\n",
              "      <td>-0.232386</td>\n",
              "      <td>-0.220772</td>\n",
              "      <td>-0.093753</td>\n",
              "      <td>-0.017486</td>\n",
              "      <td>-0.054351</td>\n",
              "      <td>-0.124890</td>\n",
              "      <td>0.066865</td>\n",
              "      <td>0.181532</td>\n",
              "      <td>-0.024232</td>\n",
              "      <td>0.282230</td>\n",
              "      <td>-0.114021</td>\n",
              "      <td>0.122455</td>\n",
              "      <td>...</td>\n",
              "      <td>-0.067474</td>\n",
              "      <td>-0.047046</td>\n",
              "      <td>0.133540</td>\n",
              "      <td>-0.046317</td>\n",
              "      <td>-0.104770</td>\n",
              "      <td>-0.165336</td>\n",
              "      <td>-0.093953</td>\n",
              "      <td>0.015939</td>\n",
              "      <td>0.069700</td>\n",
              "      <td>0.060737</td>\n",
              "      <td>-0.092608</td>\n",
              "      <td>0.097383</td>\n",
              "      <td>0.039260</td>\n",
              "      <td>-0.126100</td>\n",
              "      <td>-0.108281</td>\n",
              "      <td>0.132013</td>\n",
              "      <td>0.147092</td>\n",
              "      <td>0.157484</td>\n",
              "      <td>-0.076523</td>\n",
              "      <td>-0.001736</td>\n",
              "      <td>0.014080</td>\n",
              "      <td>-0.001209</td>\n",
              "      <td>-0.042704</td>\n",
              "      <td>-0.071986</td>\n",
              "      <td>-0.007445</td>\n",
              "      <td>0.029889</td>\n",
              "      <td>0.006454</td>\n",
              "      <td>0.065194</td>\n",
              "      <td>0.019889</td>\n",
              "      <td>-0.019623</td>\n",
              "      <td>0.030608</td>\n",
              "      <td>0.029440</td>\n",
              "      <td>0.123867</td>\n",
              "      <td>-0.188649</td>\n",
              "      <td>0.130663</td>\n",
              "      <td>0.084876</td>\n",
              "      <td>0.111980</td>\n",
              "      <td>0.117493</td>\n",
              "      <td>-0.094717</td>\n",
              "      <td>0.083751</td>\n",
              "    </tr>\n",
              "    <tr>\n",
              "      <th>986670</th>\n",
              "      <td>1</td>\n",
              "      <td>1</td>\n",
              "      <td>9.29</td>\n",
              "      <td>Beauty</td>\n",
              "      <td>Tools &amp; Accessories</td>\n",
              "      <td>Makeup Brushes &amp; Tools</td>\n",
              "      <td>0.064924</td>\n",
              "      <td>0.100857</td>\n",
              "      <td>-0.177311</td>\n",
              "      <td>0.222203</td>\n",
              "      <td>-0.055053</td>\n",
              "      <td>-0.097597</td>\n",
              "      <td>0.078476</td>\n",
              "      <td>-0.084850</td>\n",
              "      <td>0.107998</td>\n",
              "      <td>0.159537</td>\n",
              "      <td>0.098485</td>\n",
              "      <td>0.075785</td>\n",
              "      <td>0.021189</td>\n",
              "      <td>0.051966</td>\n",
              "      <td>0.096036</td>\n",
              "      <td>-0.245698</td>\n",
              "      <td>-0.206459</td>\n",
              "      <td>-0.098937</td>\n",
              "      <td>-0.032707</td>\n",
              "      <td>0.222372</td>\n",
              "      <td>-0.153566</td>\n",
              "      <td>-0.043081</td>\n",
              "      <td>-0.131456</td>\n",
              "      <td>-0.111103</td>\n",
              "      <td>-0.081334</td>\n",
              "      <td>-0.111455</td>\n",
              "      <td>0.037815</td>\n",
              "      <td>0.040076</td>\n",
              "      <td>0.121637</td>\n",
              "      <td>0.013383</td>\n",
              "      <td>-0.113488</td>\n",
              "      <td>0.094832</td>\n",
              "      <td>-0.099189</td>\n",
              "      <td>0.182174</td>\n",
              "      <td>...</td>\n",
              "      <td>-0.043322</td>\n",
              "      <td>-0.050127</td>\n",
              "      <td>0.146413</td>\n",
              "      <td>-0.066345</td>\n",
              "      <td>0.032073</td>\n",
              "      <td>-0.097000</td>\n",
              "      <td>-0.138161</td>\n",
              "      <td>0.033366</td>\n",
              "      <td>-0.047446</td>\n",
              "      <td>0.026055</td>\n",
              "      <td>-0.101641</td>\n",
              "      <td>0.033396</td>\n",
              "      <td>0.032060</td>\n",
              "      <td>-0.095924</td>\n",
              "      <td>-0.094244</td>\n",
              "      <td>0.040442</td>\n",
              "      <td>0.174707</td>\n",
              "      <td>0.138396</td>\n",
              "      <td>0.016974</td>\n",
              "      <td>-0.031742</td>\n",
              "      <td>0.053740</td>\n",
              "      <td>0.071648</td>\n",
              "      <td>-0.053110</td>\n",
              "      <td>-0.040805</td>\n",
              "      <td>-0.089486</td>\n",
              "      <td>0.014546</td>\n",
              "      <td>-0.008924</td>\n",
              "      <td>0.080460</td>\n",
              "      <td>-0.018821</td>\n",
              "      <td>-0.064583</td>\n",
              "      <td>0.037078</td>\n",
              "      <td>-0.016789</td>\n",
              "      <td>0.227826</td>\n",
              "      <td>-0.188903</td>\n",
              "      <td>0.101062</td>\n",
              "      <td>0.059297</td>\n",
              "      <td>0.020905</td>\n",
              "      <td>0.020958</td>\n",
              "      <td>-0.061580</td>\n",
              "      <td>0.016407</td>\n",
              "    </tr>\n",
              "    <tr>\n",
              "      <th>651498</th>\n",
              "      <td>3</td>\n",
              "      <td>0</td>\n",
              "      <td>0.80</td>\n",
              "      <td>Women</td>\n",
              "      <td>Tops &amp; Blouses</td>\n",
              "      <td>T-Shirts</td>\n",
              "      <td>-0.050139</td>\n",
              "      <td>0.085613</td>\n",
              "      <td>0.009561</td>\n",
              "      <td>0.074084</td>\n",
              "      <td>0.000826</td>\n",
              "      <td>0.170170</td>\n",
              "      <td>0.069811</td>\n",
              "      <td>0.060261</td>\n",
              "      <td>0.022933</td>\n",
              "      <td>-0.039378</td>\n",
              "      <td>0.169179</td>\n",
              "      <td>0.086883</td>\n",
              "      <td>-0.132656</td>\n",
              "      <td>-0.030997</td>\n",
              "      <td>-0.019939</td>\n",
              "      <td>-0.086942</td>\n",
              "      <td>0.044034</td>\n",
              "      <td>0.028354</td>\n",
              "      <td>0.061850</td>\n",
              "      <td>0.139474</td>\n",
              "      <td>-0.048270</td>\n",
              "      <td>0.084365</td>\n",
              "      <td>-0.000242</td>\n",
              "      <td>-0.051999</td>\n",
              "      <td>0.229487</td>\n",
              "      <td>-0.127276</td>\n",
              "      <td>-0.135697</td>\n",
              "      <td>-0.034684</td>\n",
              "      <td>0.043894</td>\n",
              "      <td>0.070231</td>\n",
              "      <td>0.031445</td>\n",
              "      <td>0.146981</td>\n",
              "      <td>-0.009615</td>\n",
              "      <td>-0.054560</td>\n",
              "      <td>...</td>\n",
              "      <td>-0.020236</td>\n",
              "      <td>-0.173833</td>\n",
              "      <td>0.164927</td>\n",
              "      <td>-0.029310</td>\n",
              "      <td>-0.106280</td>\n",
              "      <td>-0.104965</td>\n",
              "      <td>-0.048157</td>\n",
              "      <td>-0.083455</td>\n",
              "      <td>-0.086498</td>\n",
              "      <td>0.104310</td>\n",
              "      <td>0.063494</td>\n",
              "      <td>-0.011256</td>\n",
              "      <td>-0.115367</td>\n",
              "      <td>-0.069666</td>\n",
              "      <td>0.027439</td>\n",
              "      <td>-0.081740</td>\n",
              "      <td>0.198063</td>\n",
              "      <td>0.158500</td>\n",
              "      <td>0.036404</td>\n",
              "      <td>0.102568</td>\n",
              "      <td>0.166170</td>\n",
              "      <td>0.016854</td>\n",
              "      <td>0.058331</td>\n",
              "      <td>0.009282</td>\n",
              "      <td>0.001924</td>\n",
              "      <td>-0.046797</td>\n",
              "      <td>0.033320</td>\n",
              "      <td>-0.128883</td>\n",
              "      <td>0.069148</td>\n",
              "      <td>-0.129010</td>\n",
              "      <td>-0.023203</td>\n",
              "      <td>0.214427</td>\n",
              "      <td>0.198050</td>\n",
              "      <td>-0.187947</td>\n",
              "      <td>0.154407</td>\n",
              "      <td>0.106637</td>\n",
              "      <td>-0.016431</td>\n",
              "      <td>-0.056499</td>\n",
              "      <td>-0.058958</td>\n",
              "      <td>-0.025788</td>\n",
              "    </tr>\n",
              "    <tr>\n",
              "      <th>107499</th>\n",
              "      <td>1</td>\n",
              "      <td>1</td>\n",
              "      <td>8.20</td>\n",
              "      <td>Electronics</td>\n",
              "      <td>Cell Phones &amp; Accessories</td>\n",
              "      <td>Cables &amp; Adapters</td>\n",
              "      <td>-0.068943</td>\n",
              "      <td>0.154125</td>\n",
              "      <td>0.067599</td>\n",
              "      <td>-0.091210</td>\n",
              "      <td>0.085836</td>\n",
              "      <td>0.085842</td>\n",
              "      <td>0.025464</td>\n",
              "      <td>0.079881</td>\n",
              "      <td>0.019828</td>\n",
              "      <td>0.112787</td>\n",
              "      <td>0.132463</td>\n",
              "      <td>-0.077508</td>\n",
              "      <td>0.093937</td>\n",
              "      <td>0.059388</td>\n",
              "      <td>0.125673</td>\n",
              "      <td>-0.034645</td>\n",
              "      <td>0.111879</td>\n",
              "      <td>0.075468</td>\n",
              "      <td>0.144868</td>\n",
              "      <td>0.074442</td>\n",
              "      <td>-0.202212</td>\n",
              "      <td>0.030239</td>\n",
              "      <td>-0.138610</td>\n",
              "      <td>-0.264715</td>\n",
              "      <td>-0.192195</td>\n",
              "      <td>-0.140730</td>\n",
              "      <td>-0.034809</td>\n",
              "      <td>-0.066247</td>\n",
              "      <td>0.054475</td>\n",
              "      <td>0.036618</td>\n",
              "      <td>-0.128621</td>\n",
              "      <td>0.186472</td>\n",
              "      <td>-0.124602</td>\n",
              "      <td>0.160424</td>\n",
              "      <td>...</td>\n",
              "      <td>0.055676</td>\n",
              "      <td>0.015008</td>\n",
              "      <td>0.005646</td>\n",
              "      <td>-0.015713</td>\n",
              "      <td>0.025200</td>\n",
              "      <td>-0.151504</td>\n",
              "      <td>-0.012315</td>\n",
              "      <td>-0.081559</td>\n",
              "      <td>-0.186804</td>\n",
              "      <td>-0.043387</td>\n",
              "      <td>0.050397</td>\n",
              "      <td>0.134087</td>\n",
              "      <td>0.248749</td>\n",
              "      <td>-0.119213</td>\n",
              "      <td>-0.089777</td>\n",
              "      <td>0.117574</td>\n",
              "      <td>0.106202</td>\n",
              "      <td>0.121184</td>\n",
              "      <td>-0.041585</td>\n",
              "      <td>-0.110279</td>\n",
              "      <td>0.067597</td>\n",
              "      <td>0.084913</td>\n",
              "      <td>0.034701</td>\n",
              "      <td>-0.120192</td>\n",
              "      <td>-0.093992</td>\n",
              "      <td>-0.101698</td>\n",
              "      <td>0.075702</td>\n",
              "      <td>0.157492</td>\n",
              "      <td>0.092456</td>\n",
              "      <td>0.062870</td>\n",
              "      <td>-0.032619</td>\n",
              "      <td>-0.051356</td>\n",
              "      <td>0.127510</td>\n",
              "      <td>0.025421</td>\n",
              "      <td>0.100677</td>\n",
              "      <td>0.027878</td>\n",
              "      <td>-0.118652</td>\n",
              "      <td>-0.045458</td>\n",
              "      <td>0.036423</td>\n",
              "      <td>0.011246</td>\n",
              "    </tr>\n",
              "    <tr>\n",
              "      <th>380562</th>\n",
              "      <td>1</td>\n",
              "      <td>1</td>\n",
              "      <td>3.60</td>\n",
              "      <td>Beauty</td>\n",
              "      <td>Makeup</td>\n",
              "      <td>Face</td>\n",
              "      <td>-0.042173</td>\n",
              "      <td>0.064546</td>\n",
              "      <td>-0.080930</td>\n",
              "      <td>0.173368</td>\n",
              "      <td>-0.184879</td>\n",
              "      <td>0.071995</td>\n",
              "      <td>0.120838</td>\n",
              "      <td>0.167566</td>\n",
              "      <td>0.057058</td>\n",
              "      <td>0.098058</td>\n",
              "      <td>0.383890</td>\n",
              "      <td>-0.008603</td>\n",
              "      <td>-0.024244</td>\n",
              "      <td>-0.081049</td>\n",
              "      <td>-0.110556</td>\n",
              "      <td>-0.053211</td>\n",
              "      <td>0.087859</td>\n",
              "      <td>-0.134017</td>\n",
              "      <td>0.025501</td>\n",
              "      <td>0.258850</td>\n",
              "      <td>-0.029576</td>\n",
              "      <td>0.195395</td>\n",
              "      <td>0.027596</td>\n",
              "      <td>-0.047979</td>\n",
              "      <td>-0.045614</td>\n",
              "      <td>-0.165561</td>\n",
              "      <td>-0.078852</td>\n",
              "      <td>0.013541</td>\n",
              "      <td>0.023611</td>\n",
              "      <td>0.085217</td>\n",
              "      <td>0.021601</td>\n",
              "      <td>0.263731</td>\n",
              "      <td>-0.131372</td>\n",
              "      <td>-0.021078</td>\n",
              "      <td>...</td>\n",
              "      <td>-0.035426</td>\n",
              "      <td>0.074640</td>\n",
              "      <td>0.217703</td>\n",
              "      <td>-0.116637</td>\n",
              "      <td>-0.024329</td>\n",
              "      <td>0.014202</td>\n",
              "      <td>-0.129988</td>\n",
              "      <td>0.066009</td>\n",
              "      <td>-0.128031</td>\n",
              "      <td>-0.068399</td>\n",
              "      <td>-0.096803</td>\n",
              "      <td>-0.036968</td>\n",
              "      <td>-0.014862</td>\n",
              "      <td>-0.125123</td>\n",
              "      <td>-0.009954</td>\n",
              "      <td>-0.093841</td>\n",
              "      <td>0.141546</td>\n",
              "      <td>-0.051876</td>\n",
              "      <td>-0.102803</td>\n",
              "      <td>-0.039546</td>\n",
              "      <td>-0.007021</td>\n",
              "      <td>-0.003102</td>\n",
              "      <td>-0.125072</td>\n",
              "      <td>0.042220</td>\n",
              "      <td>-0.092647</td>\n",
              "      <td>0.020989</td>\n",
              "      <td>-0.079747</td>\n",
              "      <td>-0.014150</td>\n",
              "      <td>0.147574</td>\n",
              "      <td>-0.046121</td>\n",
              "      <td>0.023539</td>\n",
              "      <td>-0.115821</td>\n",
              "      <td>0.071051</td>\n",
              "      <td>-0.086312</td>\n",
              "      <td>-0.003830</td>\n",
              "      <td>0.074819</td>\n",
              "      <td>0.030872</td>\n",
              "      <td>-0.046160</td>\n",
              "      <td>-0.103159</td>\n",
              "      <td>0.033319</td>\n",
              "    </tr>\n",
              "  </tbody>\n",
              "</table>\n",
              "<p>5 rows × 206 columns</p>\n",
              "</div>"
            ],
            "text/plain": [
              "         item_condition_id  shipping  ...      98.1      99.1\n",
              "1365791                  3         0  ... -0.094717  0.083751\n",
              "986670                   1         1  ... -0.061580  0.016407\n",
              "651498                   3         0  ... -0.058958 -0.025788\n",
              "107499                   1         1  ...  0.036423  0.011246\n",
              "380562                   1         1  ... -0.103159  0.033319\n",
              "\n",
              "[5 rows x 206 columns]"
            ]
          },
          "metadata": {
            "tags": []
          },
          "execution_count": 18
        }
      ]
    },
    {
      "cell_type": "code",
      "metadata": {
        "id": "vldjdLAcXRHb",
        "colab_type": "code",
        "outputId": "3a7c7981-6fcf-454d-fb48-5df3f4c957ae",
        "colab": {
          "base_uri": "https://localhost:8080/",
          "height": 204
        }
      },
      "source": [
        "y_train.head()"
      ],
      "execution_count": 0,
      "outputs": [
        {
          "output_type": "execute_result",
          "data": {
            "text/html": [
              "<div>\n",
              "<style scoped>\n",
              "    .dataframe tbody tr th:only-of-type {\n",
              "        vertical-align: middle;\n",
              "    }\n",
              "\n",
              "    .dataframe tbody tr th {\n",
              "        vertical-align: top;\n",
              "    }\n",
              "\n",
              "    .dataframe thead th {\n",
              "        text-align: right;\n",
              "    }\n",
              "</style>\n",
              "<table border=\"1\" class=\"dataframe\">\n",
              "  <thead>\n",
              "    <tr style=\"text-align: right;\">\n",
              "      <th></th>\n",
              "      <th>price</th>\n",
              "    </tr>\n",
              "  </thead>\n",
              "  <tbody>\n",
              "    <tr>\n",
              "      <th>958469</th>\n",
              "      <td>-0.305263</td>\n",
              "    </tr>\n",
              "    <tr>\n",
              "      <th>693778</th>\n",
              "      <td>-0.227319</td>\n",
              "    </tr>\n",
              "    <tr>\n",
              "      <th>210050</th>\n",
              "      <td>-0.045449</td>\n",
              "    </tr>\n",
              "    <tr>\n",
              "      <th>447294</th>\n",
              "      <td>-0.071430</td>\n",
              "    </tr>\n",
              "    <tr>\n",
              "      <th>1480041</th>\n",
              "      <td>-0.357226</td>\n",
              "    </tr>\n",
              "  </tbody>\n",
              "</table>\n",
              "</div>"
            ],
            "text/plain": [
              "            price\n",
              "958469  -0.305263\n",
              "693778  -0.227319\n",
              "210050  -0.045449\n",
              "447294  -0.071430\n",
              "1480041 -0.357226"
            ]
          },
          "metadata": {
            "tags": []
          },
          "execution_count": 19
        }
      ]
    },
    {
      "cell_type": "markdown",
      "metadata": {
        "id": "rsY9wMKc6Mvx",
        "colab_type": "text"
      },
      "source": [
        "### Categorical Features To List Format"
      ]
    },
    {
      "cell_type": "markdown",
      "metadata": {
        "id": "Vvg0amWP6F_k",
        "colab_type": "text"
      },
      "source": [
        "we need to convert data to list format to match the NN network structure.\n",
        "\n",
        "The following function takes the list of categorical features, and prepare such lists for the NN input."
      ]
    },
    {
      "cell_type": "code",
      "metadata": {
        "id": "rLdSZ8bGOp4C",
        "colab_type": "code",
        "colab": {}
      },
      "source": [
        "# Ref: https://github.com/mmortazavi/EntityEmbedding-Working_Example/blob/master/EntityEmbedding.ipynb\n",
        "\n",
        "embed_val_map = {}\n",
        "for c in embed_cols:\n",
        "        raw_vals = np.unique(train_data[c])\n",
        "        val_map = {}\n",
        "        for i in range(len(raw_vals)):\n",
        "            val_map[raw_vals[i]] = i\n",
        "        embed_val_map[c] = val_map\n",
        "\n",
        "def preproc_generator(X, embed_val_map):\n",
        "    input_list = []\n",
        "    unk_in_embed = {'cat_1': 'unk_cat1', 'cat_2': 'unk_cat2', 'cat_3': 'unk_cat3', 'item_condition_id': 1}\n",
        "    \n",
        "    #the cols to be embedded: rescaling to range [0, # values)\n",
        "    for c in embed_cols:\n",
        "        val_map = embed_val_map[c]\n",
        "        input_list.append(X[c].map(val_map).fillna(val_map[unk_in_embed[c]]).values)\n",
        "     \n",
        "    #the rest of the columns\n",
        "    other_cols = [c for c in X.columns if (not c in embed_cols)]\n",
        "    input_list.append(X[other_cols].values)\n",
        "    \n",
        "    return input_list"
      ],
      "execution_count": 0,
      "outputs": []
    },
    {
      "cell_type": "markdown",
      "metadata": {
        "id": "Jrqf0by__pO_",
        "colab_type": "text"
      },
      "source": [
        "### Embedding Dimension - Hyperparamter \n",
        "\n",
        "The choice of embedding dimension is optional, essentially it is a hyperparamter that one need to choose beforehand and reseach. \n",
        "\n",
        "##### One rule of thumb is to choose half of the cardinality of the categorical feature if that is is up to 50 in length."
      ]
    },
    {
      "cell_type": "code",
      "metadata": {
        "id": "TrKTNRk4O75M",
        "colab_type": "code",
        "outputId": "02476bf9-efcc-474c-eb7e-60f39131a410",
        "colab": {
          "base_uri": "https://localhost:8080/",
          "height": 85
        }
      },
      "source": [
        "for categorical_var in embed_cols:\n",
        "    \n",
        "    cat_emb_name= categorical_var.replace(\" \", \"\")+'_Embedding'\n",
        "  \n",
        "    no_of_unique_cat  = train_data[categorical_var].nunique()\n",
        "    embedding_size = int(min(np.ceil((no_of_unique_cat)/2), 50 ))\n",
        "  \n",
        "    print('Categorical Variable:', categorical_var,\n",
        "        'Unique Categories:', no_of_unique_cat,\n",
        "        'Embedding Size:', embedding_size)"
      ],
      "execution_count": 0,
      "outputs": [
        {
          "output_type": "stream",
          "text": [
            "Categorical Variable: cat_1 Unique Categories: 11 Embedding Size: 6\n",
            "Categorical Variable: cat_2 Unique Categories: 114 Embedding Size: 50\n",
            "Categorical Variable: cat_3 Unique Categories: 871 Embedding Size: 50\n",
            "Categorical Variable: item_condition_id Unique Categories: 5 Embedding Size: 3\n"
          ],
          "name": "stdout"
        }
      ]
    },
    {
      "cell_type": "markdown",
      "metadata": {
        "id": "0ALAyYalAuzT",
        "colab_type": "text"
      },
      "source": [
        "#### Proper Naming of Categorical Features for Labelling NN Layers"
      ]
    },
    {
      "cell_type": "code",
      "metadata": {
        "colab_type": "code",
        "outputId": "ca170823-38cd-4538-b14b-e766d0985b1d",
        "id": "3Gpl2LVrJ6UG",
        "colab": {
          "base_uri": "https://localhost:8080/",
          "height": 85
        }
      },
      "source": [
        "for categorical_var in embed_cols:\n",
        "    \n",
        "    input_name= 'Input_' + categorical_var.replace(\" \", \"\")\n",
        "    print(input_name)"
      ],
      "execution_count": 0,
      "outputs": [
        {
          "output_type": "stream",
          "text": [
            "Input_cat_1\n",
            "Input_cat_2\n",
            "Input_cat_3\n",
            "Input_item_condition_id\n"
          ],
          "name": "stdout"
        }
      ]
    },
    {
      "cell_type": "markdown",
      "metadata": {
        "id": "t7IEzr52ACdl",
        "colab_type": "text"
      },
      "source": [
        "# 3. Data Modelling: DNN with Entity Embedding "
      ]
    },
    {
      "cell_type": "code",
      "metadata": {
        "id": "OgWh8sA4Oy0M",
        "colab_type": "code",
        "colab": {}
      },
      "source": [
        "# RMSLE Custom Loss\n",
        "def rmsle(y_true, y_pred):\n",
        "    assert K.int_shape(y_true)[0] == K.int_shape(y_pred)[0]\n",
        "    return K.sqrt(K.mean(K.square(K.log(y_pred+1) - K.log(y_true+1))))"
      ],
      "execution_count": 0,
      "outputs": []
    },
    {
      "cell_type": "markdown",
      "metadata": {
        "id": "hLG0ohZ9A6uA",
        "colab_type": "text"
      },
      "source": [
        "###  Building Neural Network\n",
        "\n",
        "Here we basically make the embeding layers one at a time and append, and at the end we concatenate it together with the numerical features."
      ]
    },
    {
      "cell_type": "code",
      "metadata": {
        "id": "saxiHCvPXMCJ",
        "colab_type": "code",
        "outputId": "76263d35-2736-42a0-de38-33e96a8f7884",
        "colab": {
          "base_uri": "https://localhost:8080/",
          "height": 309
        }
      },
      "source": [
        "input_models=[]\n",
        "output_embeddings=[]\n",
        "numerics = ['uint8', 'int16', 'int32', 'int64', 'float16', 'float32', 'float64']\n",
        "\n",
        "for categorical_var in embed_cols:\n",
        "    \n",
        "    #Name of the categorical variable that will be used in the Keras Embedding layer\n",
        "    cat_emb_name= categorical_var.replace(\" \", \"\")+'_Embedding'\n",
        "  \n",
        "    # Define the embedding_size\n",
        "    no_of_unique_cat  = train_data[categorical_var].nunique()\n",
        "    embedding_size = int(min(np.ceil((no_of_unique_cat)/2), 50 ))\n",
        "  \n",
        "    #One Embedding Layer for each categorical variable\n",
        "    input_model = Input(shape=(1,))\n",
        "    output_model = Embedding(no_of_unique_cat, embedding_size, name=cat_emb_name)(input_model)\n",
        "    output_model = Reshape(target_shape=(embedding_size,))(output_model)    \n",
        "  \n",
        "    #Appending all the categorical inputs\n",
        "    input_models.append(input_model)\n",
        "  \n",
        "    #Appending all the embeddings\n",
        "    output_embeddings.append(output_model)\n",
        "  \n",
        "#Other non-categorical data columns (numerical). \n",
        "#We define another network for the other columns and add them to our models list.\n",
        "input_numeric = Input(shape=(len(contin_vars),)) #-1 for train_id\n",
        "embedding_numeric = Dense(128)(input_numeric) \n",
        "input_models.append(input_numeric)\n",
        "output_embeddings.append(embedding_numeric)\n",
        "\n",
        "#At the end we concatenate altogther and add other Dense layers\n",
        "output = Concatenate()(output_embeddings)\n",
        "output = Dense(1024, kernel_initializer=\"glorot_uniform\")(output)\n",
        "output = Activation('relu')(output)\n",
        "output= Dropout(0.4)(output)\n",
        "output = Dense(512, kernel_initializer=\"glorot_uniform\")(output)\n",
        "output = Activation('relu')(output)\n",
        "output= Dropout(0.3)(output)\n",
        "output = Dense(1, activation='sigmoid')(output)\n",
        "\n",
        "model = Model(inputs=input_models, outputs=output)\n",
        "# opt = keras.optimizers.Adadelta(lr=1.0, rho=0.95, epsilon=None, decay=0.0)\n",
        "model.compile(loss='mse', optimizer='adam', metrics=[rmsle])"
      ],
      "execution_count": 0,
      "outputs": [
        {
          "output_type": "stream",
          "text": [
            "WARNING: Logging before flag parsing goes to stderr.\n",
            "W0807 12:58:10.271957 139716535281536 deprecation_wrapper.py:119] From /usr/local/lib/python3.6/dist-packages/keras/backend/tensorflow_backend.py:74: The name tf.get_default_graph is deprecated. Please use tf.compat.v1.get_default_graph instead.\n",
            "\n",
            "W0807 12:58:10.328999 139716535281536 deprecation_wrapper.py:119] From /usr/local/lib/python3.6/dist-packages/keras/backend/tensorflow_backend.py:517: The name tf.placeholder is deprecated. Please use tf.compat.v1.placeholder instead.\n",
            "\n",
            "W0807 12:58:10.360865 139716535281536 deprecation_wrapper.py:119] From /usr/local/lib/python3.6/dist-packages/keras/backend/tensorflow_backend.py:4138: The name tf.random_uniform is deprecated. Please use tf.random.uniform instead.\n",
            "\n",
            "W0807 12:58:11.199496 139716535281536 deprecation_wrapper.py:119] From /usr/local/lib/python3.6/dist-packages/keras/backend/tensorflow_backend.py:133: The name tf.placeholder_with_default is deprecated. Please use tf.compat.v1.placeholder_with_default instead.\n",
            "\n",
            "W0807 12:58:11.208280 139716535281536 deprecation.py:506] From /usr/local/lib/python3.6/dist-packages/keras/backend/tensorflow_backend.py:3445: calling dropout (from tensorflow.python.ops.nn_ops) with keep_prob is deprecated and will be removed in a future version.\n",
            "Instructions for updating:\n",
            "Please use `rate` instead of `keep_prob`. Rate should be set to `rate = 1 - keep_prob`.\n",
            "W0807 12:58:11.271213 139716535281536 deprecation_wrapper.py:119] From /usr/local/lib/python3.6/dist-packages/keras/optimizers.py:790: The name tf.train.Optimizer is deprecated. Please use tf.compat.v1.train.Optimizer instead.\n",
            "\n",
            "W0807 12:58:11.308475 139716535281536 deprecation_wrapper.py:119] From /usr/local/lib/python3.6/dist-packages/keras/backend/tensorflow_backend.py:1521: The name tf.log is deprecated. Please use tf.math.log instead.\n",
            "\n"
          ],
          "name": "stderr"
        }
      ]
    },
    {
      "cell_type": "code",
      "metadata": {
        "id": "yonTOg8ElKHg",
        "colab_type": "code",
        "colab": {}
      },
      "source": [
        "# K.clear_session()"
      ],
      "execution_count": 0,
      "outputs": []
    },
    {
      "cell_type": "code",
      "metadata": {
        "id": "Smsmi0rJZL9j",
        "colab_type": "code",
        "outputId": "56cdaf4b-f174-4394-bbef-b304fb46300f",
        "colab": {
          "base_uri": "https://localhost:8080/",
          "height": 607
        }
      },
      "source": [
        "plot_model(model, show_shapes=True, show_layer_names=True, to_file= input_folder + 'dumps/ee_dnn_model.png')\n",
        "from IPython.display import Image\n",
        "Image(retina=True, filename=input_folder + 'dumps/ee_dnn_model.png')"
      ],
      "execution_count": 0,
      "outputs": [
        {
          "output_type": "execute_result",
          "data": {
            "image/png": "[encoded data removed]",
            "text/plain": [
              "<IPython.core.display.Image object>"
            ]
          },
          "metadata": {
            "tags": [],
            "image/png": {
              "width": 1212,
              "height": 590
            }
          },
          "execution_count": 40
        }
      ]
    },
    {
      "cell_type": "code",
      "metadata": {
        "id": "kDjHo-rAZOI4",
        "colab_type": "code",
        "outputId": "1891c5b9-4ca8-4946-d8b3-bb0e7cfe4bc8",
        "colab": {
          "base_uri": "https://localhost:8080/",
          "height": 952
        }
      },
      "source": [
        "model.summary()"
      ],
      "execution_count": 0,
      "outputs": [
        {
          "output_type": "stream",
          "text": [
            "__________________________________________________________________________________________________\n",
            "Layer (type)                    Output Shape         Param #     Connected to                     \n",
            "==================================================================================================\n",
            "input_1 (InputLayer)            (None, 1)            0                                            \n",
            "__________________________________________________________________________________________________\n",
            "input_2 (InputLayer)            (None, 1)            0                                            \n",
            "__________________________________________________________________________________________________\n",
            "input_3 (InputLayer)            (None, 1)            0                                            \n",
            "__________________________________________________________________________________________________\n",
            "input_4 (InputLayer)            (None, 1)            0                                            \n",
            "__________________________________________________________________________________________________\n",
            "cat_1_Embedding (Embedding)     (None, 1, 6)         66          input_1[0][0]                    \n",
            "__________________________________________________________________________________________________\n",
            "cat_2_Embedding (Embedding)     (None, 1, 50)        5700        input_2[0][0]                    \n",
            "__________________________________________________________________________________________________\n",
            "cat_3_Embedding (Embedding)     (None, 1, 50)        43550       input_3[0][0]                    \n",
            "__________________________________________________________________________________________________\n",
            "item_condition_id_Embedding (Em (None, 1, 3)         15          input_4[0][0]                    \n",
            "__________________________________________________________________________________________________\n",
            "input_5 (InputLayer)            (None, 202)          0                                            \n",
            "__________________________________________________________________________________________________\n",
            "reshape_1 (Reshape)             (None, 6)            0           cat_1_Embedding[0][0]            \n",
            "__________________________________________________________________________________________________\n",
            "reshape_2 (Reshape)             (None, 50)           0           cat_2_Embedding[0][0]            \n",
            "__________________________________________________________________________________________________\n",
            "reshape_3 (Reshape)             (None, 50)           0           cat_3_Embedding[0][0]            \n",
            "__________________________________________________________________________________________________\n",
            "reshape_4 (Reshape)             (None, 3)            0           item_condition_id_Embedding[0][0]\n",
            "__________________________________________________________________________________________________\n",
            "dense_1 (Dense)                 (None, 128)          25984       input_5[0][0]                    \n",
            "__________________________________________________________________________________________________\n",
            "concatenate_1 (Concatenate)     (None, 237)          0           reshape_1[0][0]                  \n",
            "                                                                 reshape_2[0][0]                  \n",
            "                                                                 reshape_3[0][0]                  \n",
            "                                                                 reshape_4[0][0]                  \n",
            "                                                                 dense_1[0][0]                    \n",
            "__________________________________________________________________________________________________\n",
            "dense_2 (Dense)                 (None, 1024)         243712      concatenate_1[0][0]              \n",
            "__________________________________________________________________________________________________\n",
            "activation_1 (Activation)       (None, 1024)         0           dense_2[0][0]                    \n",
            "__________________________________________________________________________________________________\n",
            "dropout_1 (Dropout)             (None, 1024)         0           activation_1[0][0]               \n",
            "__________________________________________________________________________________________________\n",
            "dense_3 (Dense)                 (None, 512)          524800      dropout_1[0][0]                  \n",
            "__________________________________________________________________________________________________\n",
            "activation_2 (Activation)       (None, 512)          0           dense_3[0][0]                    \n",
            "__________________________________________________________________________________________________\n",
            "dropout_2 (Dropout)             (None, 512)          0           activation_2[0][0]               \n",
            "__________________________________________________________________________________________________\n",
            "dense_4 (Dense)                 (None, 1)            513         dropout_2[0][0]                  \n",
            "==================================================================================================\n",
            "Total params: 844,340\n",
            "Trainable params: 844,340\n",
            "Non-trainable params: 0\n",
            "__________________________________________________________________________________________________\n"
          ],
          "name": "stdout"
        }
      ]
    },
    {
      "cell_type": "markdown",
      "metadata": {
        "id": "teUQBpnUGAcZ",
        "colab_type": "text"
      },
      "source": [
        "### Training neural network"
      ]
    },
    {
      "cell_type": "code",
      "metadata": {
        "id": "ti45wskuGVwT",
        "colab_type": "code",
        "colab": {}
      },
      "source": [
        "history = History()\n",
        "\n",
        "callbacks = [history, \n",
        "             EarlyStopping(monitor='val_rmsle', patience=10, verbose=1, min_delta=1e-4, restore_best_weights=True, mode='min'),\n",
        "             ReduceLROnPlateau(monitor='val_rmsle', factor=0.1, patience=7, cooldown=10, min_lr=1e-7, verbose=1, mode='min'),\n",
        "             ModelCheckpoint(filepath=input_folder + 'model_word2vec.best.weights.hdf5', \n",
        "             monitor='val_rmsle', verbose=1, save_weights_only=True,  \n",
        "             save_best_only=True, mode='min')]"
      ],
      "execution_count": 0,
      "outputs": []
    },
    {
      "cell_type": "code",
      "metadata": {
        "id": "7rmnAFtErpTK",
        "colab_type": "code",
        "colab": {}
      },
      "source": [
        "X_train_list = preproc_generator(X_train, embed_val_map)\n",
        "X_val_list = preproc_generator(X_val, embed_val_map)\n",
        "X_test_list = preproc_generator(X_test, embed_val_map)"
      ],
      "execution_count": 0,
      "outputs": []
    },
    {
      "cell_type": "code",
      "metadata": {
        "id": "0MiDao4GZcTe",
        "colab_type": "code",
        "outputId": "bf2b51af-8f59-4e58-ce93-401d77321f8b",
        "colab": {
          "base_uri": "https://localhost:8080/",
          "height": 1000
        }
      },
      "source": [
        "history  =  model.fit(X_train_list,y_train,validation_data=(X_val_list,y_val) , epochs = 1200 , batch_size = 512, verbose= 1, callbacks=callbacks)"
      ],
      "execution_count": 0,
      "outputs": [
        {
          "output_type": "stream",
          "text": [
            "Train on 1333492 samples, validate on 74083 samples\n",
            "Epoch 1/1200\n",
            "1333492/1333492 [==============================] - 41s 31us/step - loss: 0.8995 - rmsle: 0.5230 - val_loss: 0.7688 - val_rmsle: 0.5071\n",
            "\n",
            "Epoch 00001: val_rmsle improved from inf to 0.50708, saving model to /content/gdrive/My Drive/DMT/mercari-price-suggestion-challenge/model_word2vec.best.weights.hdf5\n",
            "Epoch 2/1200\n",
            "1333492/1333492 [==============================] - 37s 28us/step - loss: 0.8278 - rmsle: 0.5061 - val_loss: 0.7593 - val_rmsle: 0.5025\n",
            "\n",
            "Epoch 00002: val_rmsle improved from 0.50708 to 0.50253, saving model to /content/gdrive/My Drive/DMT/mercari-price-suggestion-challenge/model_word2vec.best.weights.hdf5\n",
            "Epoch 3/1200\n",
            "1333492/1333492 [==============================] - 37s 28us/step - loss: 0.8205 - rmsle: 0.5031 - val_loss: 0.7495 - val_rmsle: 0.4976\n",
            "\n",
            "Epoch 00003: val_rmsle improved from 0.50253 to 0.49758, saving model to /content/gdrive/My Drive/DMT/mercari-price-suggestion-challenge/model_word2vec.best.weights.hdf5\n",
            "Epoch 4/1200\n",
            "1333492/1333492 [==============================] - 37s 28us/step - loss: 0.8147 - rmsle: 0.5008 - val_loss: 0.7470 - val_rmsle: 0.4977\n",
            "\n",
            "Epoch 00004: val_rmsle did not improve from 0.49758\n",
            "Epoch 5/1200\n",
            "1333492/1333492 [==============================] - 37s 28us/step - loss: 0.8115 - rmsle: 0.4996 - val_loss: 0.7487 - val_rmsle: 0.4970\n",
            "\n",
            "Epoch 00005: val_rmsle improved from 0.49758 to 0.49695, saving model to /content/gdrive/My Drive/DMT/mercari-price-suggestion-challenge/model_word2vec.best.weights.hdf5\n",
            "Epoch 6/1200\n",
            "1333492/1333492 [==============================] - 37s 28us/step - loss: 0.8088 - rmsle: 0.4985 - val_loss: 0.7518 - val_rmsle: 0.4953\n",
            "\n",
            "Epoch 00006: val_rmsle improved from 0.49695 to 0.49535, saving model to /content/gdrive/My Drive/DMT/mercari-price-suggestion-challenge/model_word2vec.best.weights.hdf5\n",
            "Epoch 7/1200\n",
            "1333492/1333492 [==============================] - 37s 28us/step - loss: 0.8063 - rmsle: 0.4974 - val_loss: 0.7429 - val_rmsle: 0.4967\n",
            "\n",
            "Epoch 00007: val_rmsle did not improve from 0.49535\n",
            "Epoch 8/1200\n",
            "1333492/1333492 [==============================] - 37s 28us/step - loss: 0.8049 - rmsle: 0.4969 - val_loss: 0.7415 - val_rmsle: 0.4949\n",
            "\n",
            "Epoch 00008: val_rmsle improved from 0.49535 to 0.49492, saving model to /content/gdrive/My Drive/DMT/mercari-price-suggestion-challenge/model_word2vec.best.weights.hdf5\n",
            "Epoch 9/1200\n",
            "1333492/1333492 [==============================] - 37s 28us/step - loss: 0.8033 - rmsle: 0.4962 - val_loss: 0.7393 - val_rmsle: 0.4951\n",
            "\n",
            "Epoch 00009: val_rmsle did not improve from 0.49492\n",
            "Epoch 10/1200\n",
            "1333492/1333492 [==============================] - 37s 28us/step - loss: 0.8016 - rmsle: 0.4955 - val_loss: 0.7383 - val_rmsle: 0.4936\n",
            "\n",
            "Epoch 00010: val_rmsle improved from 0.49492 to 0.49361, saving model to /content/gdrive/My Drive/DMT/mercari-price-suggestion-challenge/model_word2vec.best.weights.hdf5\n",
            "Epoch 11/1200\n",
            "1333492/1333492 [==============================] - 37s 28us/step - loss: 0.8012 - rmsle: 0.4953 - val_loss: 0.7364 - val_rmsle: 0.4941\n",
            "\n",
            "Epoch 00011: val_rmsle did not improve from 0.49361\n",
            "Epoch 12/1200\n",
            "1333492/1333492 [==============================] - 37s 28us/step - loss: 0.7990 - rmsle: 0.4944 - val_loss: 0.7380 - val_rmsle: 0.4938\n",
            "\n",
            "Epoch 00012: val_rmsle did not improve from 0.49361\n",
            "Epoch 13/1200\n",
            "1333492/1333492 [==============================] - 37s 28us/step - loss: 0.7980 - rmsle: 0.4940 - val_loss: 0.7364 - val_rmsle: 0.4926\n",
            "\n",
            "Epoch 00013: val_rmsle improved from 0.49361 to 0.49263, saving model to /content/gdrive/My Drive/DMT/mercari-price-suggestion-challenge/model_word2vec.best.weights.hdf5\n",
            "Epoch 14/1200\n",
            "1333492/1333492 [==============================] - 37s 28us/step - loss: 0.7973 - rmsle: 0.4936 - val_loss: 0.7364 - val_rmsle: 0.4924\n",
            "\n",
            "Epoch 00014: val_rmsle improved from 0.49263 to 0.49240, saving model to /content/gdrive/My Drive/DMT/mercari-price-suggestion-challenge/model_word2vec.best.weights.hdf5\n",
            "Epoch 15/1200\n",
            "1333492/1333492 [==============================] - 37s 28us/step - loss: 0.7973 - rmsle: 0.4937 - val_loss: 0.7376 - val_rmsle: 0.4923\n",
            "\n",
            "Epoch 00015: val_rmsle improved from 0.49240 to 0.49235, saving model to /content/gdrive/My Drive/DMT/mercari-price-suggestion-challenge/model_word2vec.best.weights.hdf5\n",
            "Epoch 16/1200\n",
            "1333492/1333492 [==============================] - 37s 28us/step - loss: 0.7959 - rmsle: 0.4931 - val_loss: 0.7351 - val_rmsle: 0.4932\n",
            "\n",
            "Epoch 00016: val_rmsle did not improve from 0.49235\n",
            "Epoch 17/1200\n",
            "1333492/1333492 [==============================] - 37s 28us/step - loss: 0.7956 - rmsle: 0.4929 - val_loss: 0.7352 - val_rmsle: 0.4923\n",
            "\n",
            "Epoch 00017: val_rmsle improved from 0.49235 to 0.49234, saving model to /content/gdrive/My Drive/DMT/mercari-price-suggestion-challenge/model_word2vec.best.weights.hdf5\n",
            "Epoch 18/1200\n",
            "1333492/1333492 [==============================] - 37s 28us/step - loss: 0.7950 - rmsle: 0.4927 - val_loss: 0.7335 - val_rmsle: 0.4922\n",
            "\n",
            "Epoch 00018: val_rmsle improved from 0.49234 to 0.49223, saving model to /content/gdrive/My Drive/DMT/mercari-price-suggestion-challenge/model_word2vec.best.weights.hdf5\n",
            "Epoch 19/1200\n",
            "1333492/1333492 [==============================] - 38s 28us/step - loss: 0.7934 - rmsle: 0.4921 - val_loss: 0.7357 - val_rmsle: 0.4913\n",
            "\n",
            "Epoch 00019: val_rmsle improved from 0.49223 to 0.49127, saving model to /content/gdrive/My Drive/DMT/mercari-price-suggestion-challenge/model_word2vec.best.weights.hdf5\n",
            "Epoch 20/1200\n",
            "1333492/1333492 [==============================] - 37s 28us/step - loss: 0.7938 - rmsle: 0.4921 - val_loss: 0.7334 - val_rmsle: 0.4916\n",
            "\n",
            "Epoch 00020: val_rmsle did not improve from 0.49127\n",
            "Epoch 21/1200\n",
            "1333492/1333492 [==============================] - 37s 28us/step - loss: 0.7927 - rmsle: 0.4917 - val_loss: 0.7364 - val_rmsle: 0.4927\n",
            "\n",
            "Epoch 00021: val_rmsle did not improve from 0.49127\n",
            "Epoch 22/1200\n",
            "1333492/1333492 [==============================] - 37s 28us/step - loss: 0.7922 - rmsle: 0.4915 - val_loss: 0.7337 - val_rmsle: 0.4909\n",
            "\n",
            "Epoch 00022: val_rmsle improved from 0.49127 to 0.49092, saving model to /content/gdrive/My Drive/DMT/mercari-price-suggestion-challenge/model_word2vec.best.weights.hdf5\n",
            "Epoch 23/1200\n",
            "1333492/1333492 [==============================] - 38s 28us/step - loss: 0.7913 - rmsle: 0.4912 - val_loss: 0.7336 - val_rmsle: 0.4918\n",
            "\n",
            "Epoch 00023: val_rmsle did not improve from 0.49092\n",
            "Epoch 24/1200\n",
            "1333492/1333492 [==============================] - 37s 28us/step - loss: 0.7908 - rmsle: 0.4909 - val_loss: 0.7340 - val_rmsle: 0.4923\n",
            "\n",
            "Epoch 00024: val_rmsle did not improve from 0.49092\n",
            "Epoch 25/1200\n",
            "1333492/1333492 [==============================] - 37s 28us/step - loss: 0.7906 - rmsle: 0.4909 - val_loss: 0.7338 - val_rmsle: 0.4929\n",
            "\n",
            "Epoch 00025: val_rmsle did not improve from 0.49092\n",
            "Epoch 26/1200\n",
            "1333492/1333492 [==============================] - 37s 28us/step - loss: 0.7909 - rmsle: 0.4911 - val_loss: 0.7334 - val_rmsle: 0.4906\n",
            "\n",
            "Epoch 00026: val_rmsle improved from 0.49092 to 0.49056, saving model to /content/gdrive/My Drive/DMT/mercari-price-suggestion-challenge/model_word2vec.best.weights.hdf5\n",
            "Epoch 27/1200\n",
            "1333492/1333492 [==============================] - 37s 28us/step - loss: 0.7898 - rmsle: 0.4905 - val_loss: 0.7319 - val_rmsle: 0.4901\n",
            "\n",
            "Epoch 00027: val_rmsle improved from 0.49056 to 0.49006, saving model to /content/gdrive/My Drive/DMT/mercari-price-suggestion-challenge/model_word2vec.best.weights.hdf5\n",
            "Epoch 28/1200\n",
            "1333492/1333492 [==============================] - 37s 28us/step - loss: 0.7889 - rmsle: 0.4900 - val_loss: 0.7319 - val_rmsle: 0.4907\n",
            "\n",
            "Epoch 00028: val_rmsle did not improve from 0.49006\n",
            "Epoch 29/1200\n",
            "1333492/1333492 [==============================] - 37s 28us/step - loss: 0.7893 - rmsle: 0.4902 - val_loss: 0.7323 - val_rmsle: 0.4908\n",
            "\n",
            "Epoch 00029: val_rmsle did not improve from 0.49006\n",
            "Epoch 30/1200\n",
            "1333492/1333492 [==============================] - 37s 28us/step - loss: 0.7887 - rmsle: 0.4900 - val_loss: 0.7320 - val_rmsle: 0.4905\n",
            "\n",
            "Epoch 00030: val_rmsle did not improve from 0.49006\n",
            "Epoch 31/1200\n",
            "1333492/1333492 [==============================] - 37s 28us/step - loss: 0.7885 - rmsle: 0.4899 - val_loss: 0.7321 - val_rmsle: 0.4910\n",
            "\n",
            "Epoch 00031: val_rmsle did not improve from 0.49006\n",
            "Epoch 32/1200\n",
            "1333492/1333492 [==============================] - 38s 28us/step - loss: 0.7880 - rmsle: 0.4897 - val_loss: 0.7334 - val_rmsle: 0.4925\n",
            "\n",
            "Epoch 00032: val_rmsle did not improve from 0.49006\n",
            "Epoch 33/1200\n",
            "1333492/1333492 [==============================] - 37s 28us/step - loss: 0.7883 - rmsle: 0.4898 - val_loss: 0.7318 - val_rmsle: 0.4910\n",
            "\n",
            "Epoch 00033: val_rmsle did not improve from 0.49006\n",
            "Epoch 34/1200\n",
            "1333492/1333492 [==============================] - 37s 28us/step - loss: 0.7873 - rmsle: 0.4894 - val_loss: 0.7312 - val_rmsle: 0.4908\n",
            "\n",
            "Epoch 00034: ReduceLROnPlateau reducing learning rate to 0.00010000000474974513.\n",
            "\n",
            "Epoch 00034: val_rmsle did not improve from 0.49006\n",
            "Epoch 35/1200\n",
            "1333492/1333492 [==============================] - 37s 28us/step - loss: 0.7822 - rmsle: 0.4873 - val_loss: 0.7293 - val_rmsle: 0.4889\n",
            "\n",
            "Epoch 00035: val_rmsle improved from 0.49006 to 0.48893, saving model to /content/gdrive/My Drive/DMT/mercari-price-suggestion-challenge/model_word2vec.best.weights.hdf5\n",
            "Epoch 36/1200\n",
            "1333492/1333492 [==============================] - 37s 28us/step - loss: 0.7805 - rmsle: 0.4865 - val_loss: 0.7292 - val_rmsle: 0.4884\n",
            "\n",
            "Epoch 00036: val_rmsle improved from 0.48893 to 0.48845, saving model to /content/gdrive/My Drive/DMT/mercari-price-suggestion-challenge/model_word2vec.best.weights.hdf5\n",
            "Epoch 37/1200\n",
            "1333492/1333492 [==============================] - 37s 28us/step - loss: 0.7798 - rmsle: 0.4862 - val_loss: 0.7291 - val_rmsle: 0.4883\n",
            "\n",
            "Epoch 00037: val_rmsle improved from 0.48845 to 0.48832, saving model to /content/gdrive/My Drive/DMT/mercari-price-suggestion-challenge/model_word2vec.best.weights.hdf5\n",
            "Epoch 38/1200\n",
            "1333492/1333492 [==============================] - 38s 28us/step - loss: 0.7792 - rmsle: 0.4859 - val_loss: 0.7286 - val_rmsle: 0.4888\n",
            "\n",
            "Epoch 00038: val_rmsle did not improve from 0.48832\n",
            "Epoch 39/1200\n",
            "1333492/1333492 [==============================] - 37s 28us/step - loss: 0.7788 - rmsle: 0.4857 - val_loss: 0.7287 - val_rmsle: 0.4887\n",
            "\n",
            "Epoch 00039: val_rmsle did not improve from 0.48832\n",
            "Epoch 40/1200\n",
            "1333492/1333492 [==============================] - 37s 28us/step - loss: 0.7787 - rmsle: 0.4856 - val_loss: 0.7286 - val_rmsle: 0.4889\n",
            "\n",
            "Epoch 00040: val_rmsle did not improve from 0.48832\n",
            "Epoch 41/1200\n",
            "1333492/1333492 [==============================] - 37s 28us/step - loss: 0.7781 - rmsle: 0.4855 - val_loss: 0.7285 - val_rmsle: 0.4884\n",
            "\n",
            "Epoch 00041: val_rmsle did not improve from 0.48832\n",
            "Epoch 42/1200\n",
            "1333492/1333492 [==============================] - 37s 28us/step - loss: 0.7781 - rmsle: 0.4853 - val_loss: 0.7282 - val_rmsle: 0.4887\n",
            "\n",
            "Epoch 00042: val_rmsle did not improve from 0.48832\n",
            "Epoch 43/1200\n",
            "1333492/1333492 [==============================] - 37s 28us/step - loss: 0.7776 - rmsle: 0.4852 - val_loss: 0.7284 - val_rmsle: 0.4888\n",
            "\n",
            "Epoch 00043: val_rmsle did not improve from 0.48832\n",
            "Epoch 44/1200\n",
            "1333492/1333492 [==============================] - 37s 28us/step - loss: 0.7774 - rmsle: 0.4851 - val_loss: 0.7287 - val_rmsle: 0.4886\n",
            "\n",
            "Epoch 00044: val_rmsle did not improve from 0.48832\n",
            "Epoch 45/1200\n",
            "1333492/1333492 [==============================] - 37s 28us/step - loss: 0.7771 - rmsle: 0.4850 - val_loss: 0.7285 - val_rmsle: 0.4885\n",
            "\n",
            "Epoch 00045: val_rmsle did not improve from 0.48832\n",
            "Epoch 46/1200\n",
            "1333492/1333492 [==============================] - 37s 28us/step - loss: 0.7769 - rmsle: 0.4849 - val_loss: 0.7284 - val_rmsle: 0.4883\n",
            "\n",
            "Epoch 00046: val_rmsle improved from 0.48832 to 0.48831, saving model to /content/gdrive/My Drive/DMT/mercari-price-suggestion-challenge/model_word2vec.best.weights.hdf5\n",
            "Epoch 47/1200\n",
            "1333492/1333492 [==============================] - 37s 28us/step - loss: 0.7768 - rmsle: 0.4848 - val_loss: 0.7284 - val_rmsle: 0.4885\n",
            "Restoring model weights from the end of the best epoch\n",
            "\n",
            "Epoch 00047: val_rmsle did not improve from 0.48831\n",
            "Epoch 00047: early stopping\n"
          ],
          "name": "stdout"
        }
      ]
    },
    {
      "cell_type": "code",
      "metadata": {
        "id": "1bMt1gaQZisy",
        "colab_type": "code",
        "outputId": "b02b29a3-f2ed-4f86-e8b8-5acc0eec1387",
        "colab": {
          "base_uri": "https://localhost:8080/",
          "height": 295
        }
      },
      "source": [
        "# summarize history for accuracy\n",
        "plt.plot(history.history['rmsle'])\n",
        "plt.plot(history.history['val_rmsle'])\n",
        "plt.title('DNN with Entity Embedding')\n",
        "plt.ylabel('rmsle')\n",
        "plt.xlabel('epoch')\n",
        "plt.legend(['train', 'val'], loc='upper right')\n",
        "plt.show()"
      ],
      "execution_count": 0,
      "outputs": [
        {
          "output_type": "display_data",
          "data": {
            "image/png": "[encoded data removed]",
            "text/plain": [
              "<Figure size 432x288 with 1 Axes>"
            ]
          },
          "metadata": {
            "tags": []
          }
        }
      ]
    },
    {
      "cell_type": "code",
      "metadata": {
        "id": "3jl0nX1Zcwh-",
        "colab_type": "code",
        "outputId": "87f2c4de-ddce-4dda-81ca-4a3b71ca362d",
        "colab": {
          "base_uri": "https://localhost:8080/",
          "height": 34
        }
      },
      "source": [
        "#List out Hyperparameters ???\n",
        "history.history['val_rmsle'][-1]"
      ],
      "execution_count": 0,
      "outputs": [
        {
          "output_type": "execute_result",
          "data": {
            "text/plain": [
              "0.48851542824000127"
            ]
          },
          "metadata": {
            "tags": []
          },
          "execution_count": 33
        }
      ]
    },
    {
      "cell_type": "markdown",
      "metadata": {
        "id": "miBTE0fGL5Qb",
        "colab_type": "text"
      },
      "source": [
        "# 4. Data Modelling: XgBoost with Entity Embedding "
      ]
    },
    {
      "cell_type": "markdown",
      "metadata": {
        "id": "PFt4nccaN0lj",
        "colab_type": "text"
      },
      "source": [
        "Run the above code atleast till the DNN model compilation cell."
      ]
    },
    {
      "cell_type": "code",
      "metadata": {
        "id": "pS7LNHo6oZgb",
        "colab_type": "code",
        "colab": {}
      },
      "source": [
        "model.load_weights(filepath=input_folder + 'model_word2vec.best.weights.hdf5')"
      ],
      "execution_count": 0,
      "outputs": []
    },
    {
      "cell_type": "markdown",
      "metadata": {
        "id": "hIG3SpD1VDAH",
        "colab_type": "text"
      },
      "source": [
        "After training of our model, a new category can come up in test set that was not previously in the train dataset. We need to handle that for XgBoost. In the DNN, we handled the same in the prepoc_generator function."
      ]
    },
    {
      "cell_type": "code",
      "metadata": {
        "id": "yY5Cyv0MOJZu",
        "colab_type": "code",
        "colab": {}
      },
      "source": [
        "# This function compares the unique values in test data with that of train, and replaces any new unique value in the test set with UNK token.  \n",
        "def mark_unseen_cat_as_unk(X_train, X_test):\n",
        "  unk_in_embed = {'cat_1': 'unk_cat1', 'cat_2': 'unk_cat2', 'cat_3': 'unk_cat3', 'item_condition_id': 1}\n",
        "  for c in embed_cols:\n",
        "    for unk_cat in set(X_test[c].unique()).difference(set(X_train[c].unique())):\n",
        "      X_test.loc[X_test[c] == unk_cat, c] = unk_in_embed[c]  \n",
        "  return X_test\n",
        "\n",
        "val_data = mark_unseen_cat_as_unk(train_data, val_data)\n",
        "test_data = mark_unseen_cat_as_unk(train_data, test_data)"
      ],
      "execution_count": 0,
      "outputs": []
    },
    {
      "cell_type": "markdown",
      "metadata": {
        "id": "LJhXsPX6VUJO",
        "colab_type": "text"
      },
      "source": [
        "Extract the embedding layer weights from the trained DNN model. These embedding layer weights replace the categorical attribute with N-dim vectors that are able to capture richer & complex relationships between those categories that OHE can not. "
      ]
    },
    {
      "cell_type": "code",
      "metadata": {
        "id": "5EFDUW1Kdrx-",
        "colab_type": "code",
        "colab": {}
      },
      "source": [
        "cat_1_Embedding = model.get_layer('cat_1_Embedding').get_weights()[0]\n",
        "cat_2_Embedding = model.get_layer('cat_2_Embedding').get_weights()[0]\n",
        "cat_3_Embedding = model.get_layer('cat_3_Embedding').get_weights()[0]\n",
        "item_condition_id_Embedding  = model.get_layer('item_condition_id_Embedding').get_weights()[0]"
      ],
      "execution_count": 0,
      "outputs": []
    },
    {
      "cell_type": "markdown",
      "metadata": {
        "id": "EQyIBQ1dV4hN",
        "colab_type": "text"
      },
      "source": [
        "**Now, we will replace each value of categorical attribute columns with their learnt embedding vectors.**"
      ]
    },
    {
      "cell_type": "code",
      "metadata": {
        "id": "ZzIHiGkQmuSc",
        "colab_type": "code",
        "colab": {}
      },
      "source": [
        "embed_map = {'cat_1': cat_1_Embedding, 'cat_2': cat_2_Embedding, 'cat_3': cat_3_Embedding, 'item_condition_id': item_condition_id_Embedding}"
      ],
      "execution_count": 0,
      "outputs": []
    },
    {
      "cell_type": "code",
      "metadata": {
        "id": "GcyVNAJRh8IH",
        "colab_type": "code",
        "colab": {}
      },
      "source": [
        "embed_val_map = {}\n",
        "for c in embed_cols:\n",
        "        raw_vals = np.unique(train_data[c])\n",
        "        val_map = {}\n",
        "        for i in range(len(raw_vals)):\n",
        "            val_map[raw_vals[i]] = embed_map[c][i]\n",
        "        embed_val_map[c] = val_map"
      ],
      "execution_count": 0,
      "outputs": []
    },
    {
      "cell_type": "code",
      "metadata": {
        "id": "lX7ZG90OLbk5",
        "colab_type": "code",
        "colab": {}
      },
      "source": [
        "train_data = pd.concat((train_data, \n",
        "                        train_data.apply(lambda x: embed_val_map['cat_1'][x['cat_1']], axis=1, result_type='expand'), \n",
        "                        train_data.apply(lambda x: embed_val_map['cat_2'][x['cat_2']], axis=1, result_type='expand'),\n",
        "                        train_data.apply(lambda x: embed_val_map['cat_3'][x['cat_3']], axis=1, result_type='expand'),\n",
        "                        train_data.apply(lambda x: embed_val_map['item_condition_id'][x['item_condition_id']], axis=1, result_type='expand')),\n",
        "                        axis=1)"
      ],
      "execution_count": 0,
      "outputs": []
    },
    {
      "cell_type": "code",
      "metadata": {
        "id": "18ZaOivXT2b3",
        "colab_type": "code",
        "colab": {}
      },
      "source": [
        "val_data = pd.concat((val_data, \n",
        "                        val_data.apply(lambda x: embed_val_map['cat_1'][x['cat_1']], axis=1, result_type='expand'), \n",
        "                        val_data.apply(lambda x: embed_val_map['cat_2'][x['cat_2']], axis=1, result_type='expand'),\n",
        "                        val_data.apply(lambda x: embed_val_map['cat_3'][x['cat_3']], axis=1, result_type='expand'),\n",
        "                        val_data.apply(lambda x: embed_val_map['item_condition_id'][x['item_condition_id']], axis=1, result_type='expand')),\n",
        "                        axis=1)"
      ],
      "execution_count": 0,
      "outputs": []
    },
    {
      "cell_type": "code",
      "metadata": {
        "id": "lq_0dJMSltQn",
        "colab_type": "code",
        "colab": {}
      },
      "source": [
        "test_data = pd.concat((test_data, \n",
        "                        test_data.apply(lambda x: embed_val_map['cat_1'][x['cat_1']], axis=1, result_type='expand'), \n",
        "                        test_data.apply(lambda x: embed_val_map['cat_2'][x['cat_2']], axis=1, result_type='expand'),\n",
        "                        test_data.apply(lambda x: embed_val_map['cat_3'][x['cat_3']], axis=1, result_type='expand'),\n",
        "                        test_data.apply(lambda x: embed_val_map['item_condition_id'][x['item_condition_id']], axis=1, result_type='expand')),\n",
        "                        axis=1)"
      ],
      "execution_count": 0,
      "outputs": []
    },
    {
      "cell_type": "markdown",
      "metadata": {
        "id": "M6LTYWm0WMT9",
        "colab_type": "text"
      },
      "source": [
        "Now, the embedding vectors have been added to the dataset. We rename some of the duplicate columns that were formed in the previous steps."
      ]
    },
    {
      "cell_type": "code",
      "metadata": {
        "id": "oaTE3GvBhFTI",
        "colab_type": "code",
        "colab": {}
      },
      "source": [
        "import xgboost as xgb"
      ],
      "execution_count": 0,
      "outputs": []
    },
    {
      "cell_type": "code",
      "metadata": {
        "id": "V-f5YK0z16Mc",
        "colab_type": "code",
        "colab": {}
      },
      "source": [
        "cols = pd.io.parsers.ParserBase({'names':train_data.columns})._maybe_dedup_names(train_data.columns)\n",
        "train_data.columns = cols\n",
        "val_data.columns = cols\n",
        "test_data.columns = cols\n",
        "train_data.drop(labels=['train_id', 'cat_1', 'cat_2', 'cat_3', 'item_condition_id', 'category_name'], axis=1, inplace=True)\n",
        "val_data.drop(labels=['train_id', 'cat_1', 'cat_2', 'cat_3', 'item_condition_id', 'category_name'], axis=1, inplace=True)\n",
        "test_data.drop(labels=['train_id', 'cat_1', 'cat_2', 'cat_3', 'item_condition_id', 'category_name'], axis=1, inplace=True)"
      ],
      "execution_count": 0,
      "outputs": []
    },
    {
      "cell_type": "code",
      "metadata": {
        "id": "qhc-JD1x4djK",
        "colab_type": "code",
        "colab": {}
      },
      "source": [
        "train_data.to_pickle(input_folder + 'train_xgboost.pkl')\n",
        "val_data.to_pickle(input_folder + 'val_xgboost.pkl')\n",
        "test_data.to_pickle(input_folder + 'test_xgboost.pkl')"
      ],
      "execution_count": 0,
      "outputs": []
    },
    {
      "cell_type": "code",
      "metadata": {
        "id": "oBR-iuYb2a54",
        "colab_type": "code",
        "colab": {}
      },
      "source": [
        "# Selection of features\n",
        "xg_train_ft = train_data.columns.to_list()\n",
        "xg_train_ft.remove('price')\n",
        "\n",
        "xg_target = 'price'"
      ],
      "execution_count": 0,
      "outputs": []
    },
    {
      "cell_type": "code",
      "metadata": {
        "id": "rLdiXnJ5tJsg",
        "colab_type": "code",
        "colab": {}
      },
      "source": [
        "X_train, X_val, X_test, y_train, y_val, y_test = train_data[xg_train_ft], val_data[xg_train_ft], test_data[xg_train_ft], train_data[xg_target], val_data[xg_target], test_data[xg_target]"
      ],
      "execution_count": 0,
      "outputs": []
    },
    {
      "cell_type": "code",
      "metadata": {
        "id": "bFo9U1UhBhPQ",
        "colab_type": "code",
        "colab": {}
      },
      "source": [
        "# Redefine RMSLE function in NumPy\n",
        "def rmsle(y_true, y_pred):\n",
        "    return np.sqrt(np.mean(np.square(np.log1p(y_pred) - np.log1p(y_true))))"
      ],
      "execution_count": 0,
      "outputs": []
    },
    {
      "cell_type": "code",
      "metadata": {
        "id": "sHFYk5MeyqCs",
        "colab_type": "code",
        "outputId": "2ee76372-35b4-4c0d-d05b-19463f2a14ca",
        "colab": {
          "base_uri": "https://localhost:8080/",
          "height": 258
        }
      },
      "source": [
        "# Train the XgBoost Regressor using GPU\n",
        "regressor = xgb.XGBRegressor(**{\"updater\": \"grow_gpu_hist\"})\n",
        "regressor.fit(X_train, y_train)"
      ],
      "execution_count": 0,
      "outputs": [
        {
          "output_type": "stream",
          "text": [
            "/usr/local/lib/python3.6/dist-packages/xgboost/core.py:587: FutureWarning: Series.base is deprecated and will be removed in a future version\n",
            "  if getattr(data, 'base', None) is not None and \\\n",
            "/usr/local/lib/python3.6/dist-packages/xgboost/core.py:588: FutureWarning: Series.base is deprecated and will be removed in a future version\n",
            "  data.base is not None and isinstance(data, np.ndarray) \\\n"
          ],
          "name": "stderr"
        },
        {
          "output_type": "stream",
          "text": [
            "[14:05:51] WARNING: /workspace/src/learner.cc:194: DANGER AHEAD: You have manually specified `updater` parameter. The `tree_method` parameter will be ignored. Incorrect sequence of updaters will produce undefined behavior. For common uses, we recommend using `tree_method` parameter instead.\n",
            "[14:05:51] WARNING: /workspace/src/objective/regression_obj.cu:152: reg:linear is now deprecated in favor of reg:squarederror.\n"
          ],
          "name": "stdout"
        },
        {
          "output_type": "execute_result",
          "data": {
            "text/plain": [
              "XGBRegressor(base_score=0.5, booster='gbtree', colsample_bylevel=1,\n",
              "             colsample_bynode=1, colsample_bytree=1, gamma=0,\n",
              "             importance_type='gain', learning_rate=0.1, max_delta_step=0,\n",
              "             max_depth=3, min_child_weight=1, missing=None, n_estimators=100,\n",
              "             n_jobs=1, nthread=None, objective='reg:linear', random_state=0,\n",
              "             reg_alpha=0, reg_lambda=1, scale_pos_weight=1, seed=None,\n",
              "             silent=None, subsample=1, updater='grow_gpu_hist', verbosity=1)"
            ]
          },
          "metadata": {
            "tags": []
          },
          "execution_count": 52
        }
      ]
    },
    {
      "cell_type": "code",
      "metadata": {
        "id": "moWZKpFN3BKS",
        "colab_type": "code",
        "colab": {}
      },
      "source": [
        "y_pred = regressor.predict(X_test)"
      ],
      "execution_count": 0,
      "outputs": []
    },
    {
      "cell_type": "code",
      "metadata": {
        "id": "IthOAjTtA6_V",
        "colab_type": "code",
        "outputId": "60ce6834-355b-4ab5-e5f2-b16d743c8c90",
        "colab": {
          "base_uri": "https://localhost:8080/",
          "height": 34
        }
      },
      "source": [
        "print('The RMSL of XgBoost on test set is:', rmsle(y_test.values, y_pred))"
      ],
      "execution_count": 0,
      "outputs": [
        {
          "output_type": "stream",
          "text": [
            "The RMSL of XgBoost on test set is: 0.4303965569919772\n"
          ],
          "name": "stdout"
        }
      ]
    },
    {
      "cell_type": "code",
      "metadata": {
        "id": "MtipOCc3dtOS",
        "colab_type": "code",
        "colab": {}
      },
      "source": [
        ""
      ],
      "execution_count": 0,
      "outputs": []
    }
  ]
}