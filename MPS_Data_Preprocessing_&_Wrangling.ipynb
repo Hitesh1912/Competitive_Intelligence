{
  "nbformat": 4,
  "nbformat_minor": 0,
  "metadata": {
    "colab": {
      "name": "MPS: Data Preprocessing & Wrangling.ipynb",
      "version": "0.3.2",
      "provenance": [],
      "collapsed_sections": [
        "lmoM4TBU71_r",
        "en5_ZyEA0Yh4",
        "1exYyP_HldAb",
        "DQhDGZo7BvXr"
      ],
      "machine_shape": "hm"
    },
    "language_info": {
      "name": "python",
      "version": "3.6.4",
      "mimetype": "text/x-python",
      "codemirror_mode": {
        "name": "ipython",
        "version": 3
      },
      "pygments_lexer": "ipython3",
      "nbconvert_exporter": "python",
      "file_extension": ".py"
    },
    "kernelspec": {
      "name": "python3",
      "display_name": "Python 3"
    },
    "accelerator": "GPU"
  },
  "cells": [
    {
      "cell_type": "code",
      "metadata": {
        "id": "9YcLNOTSq2C5",
        "colab_type": "code",
        "outputId": "36a1ba87-ecb0-4e6a-831f-9257dfce0f64",
        "colab": {
          "base_uri": "https://localhost:8080/",
          "height": 122
        }
      },
      "source": [
        "# Don't run if not running in Google Colab\n",
        "from google.colab import drive\n",
        "drive.mount('/content/gdrive')"
      ],
      "execution_count": 1,
      "outputs": [
        {
          "output_type": "stream",
          "text": [
            "Go to this URL in a browser: https://accounts.google.com/o/oauth2/auth?client_id=947318989803-6bn6qk8qdgf4n4g3pfee6491hc0brc4i.apps.googleusercontent.com&redirect_uri=urn%3Aietf%3Awg%3Aoauth%3A2.0%3Aoob&scope=email%20https%3A%2F%2Fwww.googleapis.com%2Fauth%2Fdocs.test%20https%3A%2F%2Fwww.googleapis.com%2Fauth%2Fdrive%20https%3A%2F%2Fwww.googleapis.com%2Fauth%2Fdrive.photos.readonly%20https%3A%2F%2Fwww.googleapis.com%2Fauth%2Fpeopleapi.readonly&response_type=code\n",
            "\n",
            "Enter your authorization code:\n",
            "··········\n",
            "Mounted at /content/gdrive\n"
          ],
          "name": "stdout"
        }
      ]
    },
    {
      "cell_type": "markdown",
      "metadata": {
        "id": "VY3FPpopbdeD",
        "colab_type": "text"
      },
      "source": [
        "### Pre-requisite libraries to install on Google Colab before running the code"
      ]
    },
    {
      "cell_type": "markdown",
      "metadata": {
        "id": "2tsvIQYF05zM",
        "colab_type": "text"
      },
      "source": [
        "If you are installing any dependent libraries, please specify here as pre-req \n",
        "to install before running the notebook\n",
        "\n",
        "\n",
        "1.   scikit-learn (upgrade to v0.21.3)\n",
        "2.   textstat (v0.5.6)\n"
      ]
    },
    {
      "cell_type": "code",
      "metadata": {
        "id": "siMd4TKR-LZk",
        "colab_type": "code",
        "outputId": "fb0f45e7-75ce-4770-c12d-1a0238c4d2d8",
        "colab": {
          "base_uri": "https://localhost:8080/",
          "height": 258
        }
      },
      "source": [
        "#run to install pre-req libraries\n",
        "!pip install textstat\n",
        "!pip install -U scikit-learn"
      ],
      "execution_count": 2,
      "outputs": [
        {
          "output_type": "stream",
          "text": [
            "Collecting textstat\n",
            "  Downloading https://files.pythonhosted.org/packages/66/73/97bb64c89d6f2b24be6ad76007823e19b4c32ed4d484420b3ec6892ac440/textstat-0.5.6-py3-none-any.whl\n",
            "Collecting pyphen (from textstat)\n",
            "\u001b[?25l  Downloading https://files.pythonhosted.org/packages/15/82/08a3629dce8d1f3d91db843bb36d4d7db6b6269d5067259613a0d5c8a9db/Pyphen-0.9.5-py2.py3-none-any.whl (3.0MB)\n",
            "\u001b[K     |████████████████████████████████| 3.0MB 9.4MB/s \n",
            "\u001b[?25hCollecting repoze.lru (from textstat)\n",
            "  Downloading https://files.pythonhosted.org/packages/b0/30/6cc0c95f0b59ad4b3b9163bff7cdcf793cc96fac64cf398ff26271f5cf5e/repoze.lru-0.7-py3-none-any.whl\n",
            "Installing collected packages: pyphen, repoze.lru, textstat\n",
            "Successfully installed pyphen-0.9.5 repoze.lru-0.7 textstat-0.5.6\n",
            "Requirement already up-to-date: scikit-learn in /usr/local/lib/python3.6/dist-packages (0.21.3)\n",
            "Requirement already satisfied, skipping upgrade: scipy>=0.17.0 in /usr/local/lib/python3.6/dist-packages (from scikit-learn) (1.3.0)\n",
            "Requirement already satisfied, skipping upgrade: numpy>=1.11.0 in /usr/local/lib/python3.6/dist-packages (from scikit-learn) (1.16.4)\n",
            "Requirement already satisfied, skipping upgrade: joblib>=0.11 in /usr/local/lib/python3.6/dist-packages (from scikit-learn) (0.13.2)\n"
          ],
          "name": "stdout"
        }
      ]
    },
    {
      "cell_type": "code",
      "metadata": {
        "id": "iJtWJrIfXNAS",
        "colab_type": "code",
        "colab": {
          "base_uri": "https://localhost:8080/",
          "height": 34
        },
        "outputId": "726ed833-7707-4fa1-b215-7d16b8c87d69"
      },
      "source": [
        "from datetime import datetime \n",
        "start_real = datetime.now()\n",
        "import joblib\n",
        "import numpy as np\n",
        "import pandas as pd\n",
        "import matplotlib.pyplot as plt\n",
        "import pydot_ng as pydot\n",
        "from textstat import textstat\n",
        "import dask.dataframe as dd\n",
        "from IPython.display import display\n",
        "\n",
        "from sklearn.preprocessing import LabelEncoder\n",
        "from sklearn.model_selection import train_test_split\n",
        "from sklearn.linear_model import Ridge\n",
        "from sklearn.linear_model import RidgeCV\n",
        "from sklearn.pipeline import FeatureUnion\n",
        "from sklearn.feature_extraction.text import CountVectorizer, TfidfVectorizer\n",
        "\n",
        "from keras.preprocessing.text import Tokenizer\n",
        "from keras.preprocessing.sequence import pad_sequences\n",
        "from keras.layers import Input, Dropout, Dense, concatenate, GRU, Embedding, Flatten, Activation\n",
        "from keras.optimizers import Adam\n",
        "from keras.models import Model\n",
        "from keras.utils import plot_model\n",
        "from keras import backend as K\n",
        "from nltk.corpus import stopwords\n",
        "import math\n",
        "# set seed\n",
        "np.random.seed(123)"
      ],
      "execution_count": 3,
      "outputs": [
        {
          "output_type": "stream",
          "text": [
            "Using TensorFlow backend.\n"
          ],
          "name": "stderr"
        }
      ]
    },
    {
      "cell_type": "markdown",
      "metadata": {
        "id": "H1fk9leKWc_1",
        "colab_type": "text"
      },
      "source": [
        "# 1. Data Preprocesing"
      ]
    },
    {
      "cell_type": "markdown",
      "metadata": {
        "id": "OMELkOwnXrLs",
        "colab_type": "text"
      },
      "source": [
        "### Get the input folder of the dataset"
      ]
    },
    {
      "cell_type": "code",
      "metadata": {
        "_uuid": "8f2839f25d086af736a60e9eeb907d3b93b6e0e5",
        "_cell_guid": "b1076dfc-b9ad-4769-8c92-a6c4dae69d19",
        "trusted": true,
        "id": "bEC0wv0PqqK2",
        "colab_type": "code",
        "outputId": "a8dfe279-ebb4-4377-8695-ced9335d3923",
        "colab": {
          "base_uri": "https://localhost:8080/",
          "height": 54
        }
      },
      "source": [
        "# Input data files are available in the \"../mercari-price-suggestion-challenge/\" directory.\n",
        "# NOTE: Please modify the absolute path before /mercari-price-suggestion-challenge accordingly\n",
        "\n",
        "# For example, running this (by clicking run or pressing Shift+Enter) will list the files in the mercari-price-suggestion-challenge directory\n",
        "\n",
        "import os\n",
        "print(os.listdir(\"/content/gdrive/My Drive/DMT/mercari-price-suggestion-challenge\"))\n",
        "input_folder = '/content/gdrive/My Drive/DMT/mercari-price-suggestion-challenge/'\n",
        "\n",
        "# Any results you write to the current directory are saved as output."
      ],
      "execution_count": 4,
      "outputs": [
        {
          "output_type": "stream",
          "text": [
            "['sample_submission_stg2.csv', 'train.tsv', 'train.pkl', 'wiki.en.bin.bin', 'model.best.weights.hdf5', 'train_word2vec.pkl', 'dumps', 'model_word2vec.best.weights.hdf5', 'val_xgboost.pkl', 'test_xgboost.pkl', 'train_xgboost.pkl', 'model.png']\n"
          ],
          "name": "stdout"
        }
      ]
    },
    {
      "cell_type": "markdown",
      "metadata": {
        "id": "hijArvxXavGz",
        "colab_type": "text"
      },
      "source": [
        "## 1.1 Load the Data"
      ]
    },
    {
      "cell_type": "code",
      "metadata": {
        "id": "_DZaLitSaTpy",
        "colab_type": "code",
        "outputId": "a9b154ee-0231-4751-c27a-4ea167b0ab6d",
        "colab": {
          "base_uri": "https://localhost:8080/",
          "height": 306
        }
      },
      "source": [
        "train_data = pd.read_csv(input_folder + 'train.tsv', sep='\\t')\n",
        "print(\"train shape\",np.shape(train_data))\n",
        "train_data.head()"
      ],
      "execution_count": 5,
      "outputs": [
        {
          "output_type": "stream",
          "text": [
            "train shape (1482535, 8)\n"
          ],
          "name": "stdout"
        },
        {
          "output_type": "execute_result",
          "data": {
            "text/html": [
              "<div>\n",
              "<style scoped>\n",
              "    .dataframe tbody tr th:only-of-type {\n",
              "        vertical-align: middle;\n",
              "    }\n",
              "\n",
              "    .dataframe tbody tr th {\n",
              "        vertical-align: top;\n",
              "    }\n",
              "\n",
              "    .dataframe thead th {\n",
              "        text-align: right;\n",
              "    }\n",
              "</style>\n",
              "<table border=\"1\" class=\"dataframe\">\n",
              "  <thead>\n",
              "    <tr style=\"text-align: right;\">\n",
              "      <th></th>\n",
              "      <th>train_id</th>\n",
              "      <th>name</th>\n",
              "      <th>item_condition_id</th>\n",
              "      <th>category_name</th>\n",
              "      <th>brand_name</th>\n",
              "      <th>price</th>\n",
              "      <th>shipping</th>\n",
              "      <th>item_description</th>\n",
              "    </tr>\n",
              "  </thead>\n",
              "  <tbody>\n",
              "    <tr>\n",
              "      <th>0</th>\n",
              "      <td>0</td>\n",
              "      <td>MLB Cincinnati Reds T Shirt Size XL</td>\n",
              "      <td>3</td>\n",
              "      <td>Men/Tops/T-shirts</td>\n",
              "      <td>NaN</td>\n",
              "      <td>10.0</td>\n",
              "      <td>1</td>\n",
              "      <td>No description yet</td>\n",
              "    </tr>\n",
              "    <tr>\n",
              "      <th>1</th>\n",
              "      <td>1</td>\n",
              "      <td>Razer BlackWidow Chroma Keyboard</td>\n",
              "      <td>3</td>\n",
              "      <td>Electronics/Computers &amp; Tablets/Components &amp; P...</td>\n",
              "      <td>Razer</td>\n",
              "      <td>52.0</td>\n",
              "      <td>0</td>\n",
              "      <td>This keyboard is in great condition and works ...</td>\n",
              "    </tr>\n",
              "    <tr>\n",
              "      <th>2</th>\n",
              "      <td>2</td>\n",
              "      <td>AVA-VIV Blouse</td>\n",
              "      <td>1</td>\n",
              "      <td>Women/Tops &amp; Blouses/Blouse</td>\n",
              "      <td>Target</td>\n",
              "      <td>10.0</td>\n",
              "      <td>1</td>\n",
              "      <td>Adorable top with a hint of lace and a key hol...</td>\n",
              "    </tr>\n",
              "    <tr>\n",
              "      <th>3</th>\n",
              "      <td>3</td>\n",
              "      <td>Leather Horse Statues</td>\n",
              "      <td>1</td>\n",
              "      <td>Home/Home Décor/Home Décor Accents</td>\n",
              "      <td>NaN</td>\n",
              "      <td>35.0</td>\n",
              "      <td>1</td>\n",
              "      <td>New with tags. Leather horses. Retail for [rm]...</td>\n",
              "    </tr>\n",
              "    <tr>\n",
              "      <th>4</th>\n",
              "      <td>4</td>\n",
              "      <td>24K GOLD plated rose</td>\n",
              "      <td>1</td>\n",
              "      <td>Women/Jewelry/Necklaces</td>\n",
              "      <td>NaN</td>\n",
              "      <td>44.0</td>\n",
              "      <td>0</td>\n",
              "      <td>Complete with certificate of authenticity</td>\n",
              "    </tr>\n",
              "  </tbody>\n",
              "</table>\n",
              "</div>"
            ],
            "text/plain": [
              "   train_id  ...                                   item_description\n",
              "0         0  ...                                 No description yet\n",
              "1         1  ...  This keyboard is in great condition and works ...\n",
              "2         2  ...  Adorable top with a hint of lace and a key hol...\n",
              "3         3  ...  New with tags. Leather horses. Retail for [rm]...\n",
              "4         4  ...          Complete with certificate of authenticity\n",
              "\n",
              "[5 rows x 8 columns]"
            ]
          },
          "metadata": {
            "tags": []
          },
          "execution_count": 5
        }
      ]
    },
    {
      "cell_type": "code",
      "metadata": {
        "id": "Sw9cYWsTYQ44",
        "colab_type": "code",
        "outputId": "94680455-1c3e-49e9-f00b-97f25ec1a5ae",
        "colab": {
          "base_uri": "https://localhost:8080/",
          "height": 238
        }
      },
      "source": [
        "train_data.info()"
      ],
      "execution_count": 6,
      "outputs": [
        {
          "output_type": "stream",
          "text": [
            "<class 'pandas.core.frame.DataFrame'>\n",
            "RangeIndex: 1482535 entries, 0 to 1482534\n",
            "Data columns (total 8 columns):\n",
            "train_id             1482535 non-null int64\n",
            "name                 1482535 non-null object\n",
            "item_condition_id    1482535 non-null int64\n",
            "category_name        1476208 non-null object\n",
            "brand_name           849853 non-null object\n",
            "price                1482535 non-null float64\n",
            "shipping             1482535 non-null int64\n",
            "item_description     1482531 non-null object\n",
            "dtypes: float64(1), int64(3), object(4)\n",
            "memory usage: 90.5+ MB\n"
          ],
          "name": "stdout"
        }
      ]
    },
    {
      "cell_type": "code",
      "metadata": {
        "id": "MvmKr0wQYTk2",
        "colab_type": "code",
        "outputId": "7b4aac9b-f974-4975-d341-28a249abc912",
        "colab": {
          "base_uri": "https://localhost:8080/",
          "height": 297
        }
      },
      "source": [
        "train_data.describe()"
      ],
      "execution_count": 7,
      "outputs": [
        {
          "output_type": "execute_result",
          "data": {
            "text/html": [
              "<div>\n",
              "<style scoped>\n",
              "    .dataframe tbody tr th:only-of-type {\n",
              "        vertical-align: middle;\n",
              "    }\n",
              "\n",
              "    .dataframe tbody tr th {\n",
              "        vertical-align: top;\n",
              "    }\n",
              "\n",
              "    .dataframe thead th {\n",
              "        text-align: right;\n",
              "    }\n",
              "</style>\n",
              "<table border=\"1\" class=\"dataframe\">\n",
              "  <thead>\n",
              "    <tr style=\"text-align: right;\">\n",
              "      <th></th>\n",
              "      <th>train_id</th>\n",
              "      <th>item_condition_id</th>\n",
              "      <th>price</th>\n",
              "      <th>shipping</th>\n",
              "    </tr>\n",
              "  </thead>\n",
              "  <tbody>\n",
              "    <tr>\n",
              "      <th>count</th>\n",
              "      <td>1.482535e+06</td>\n",
              "      <td>1.482535e+06</td>\n",
              "      <td>1.482535e+06</td>\n",
              "      <td>1.482535e+06</td>\n",
              "    </tr>\n",
              "    <tr>\n",
              "      <th>mean</th>\n",
              "      <td>7.412670e+05</td>\n",
              "      <td>1.907380e+00</td>\n",
              "      <td>2.673752e+01</td>\n",
              "      <td>4.472744e-01</td>\n",
              "    </tr>\n",
              "    <tr>\n",
              "      <th>std</th>\n",
              "      <td>4.279711e+05</td>\n",
              "      <td>9.031586e-01</td>\n",
              "      <td>3.858607e+01</td>\n",
              "      <td>4.972124e-01</td>\n",
              "    </tr>\n",
              "    <tr>\n",
              "      <th>min</th>\n",
              "      <td>0.000000e+00</td>\n",
              "      <td>1.000000e+00</td>\n",
              "      <td>0.000000e+00</td>\n",
              "      <td>0.000000e+00</td>\n",
              "    </tr>\n",
              "    <tr>\n",
              "      <th>25%</th>\n",
              "      <td>3.706335e+05</td>\n",
              "      <td>1.000000e+00</td>\n",
              "      <td>1.000000e+01</td>\n",
              "      <td>0.000000e+00</td>\n",
              "    </tr>\n",
              "    <tr>\n",
              "      <th>50%</th>\n",
              "      <td>7.412670e+05</td>\n",
              "      <td>2.000000e+00</td>\n",
              "      <td>1.700000e+01</td>\n",
              "      <td>0.000000e+00</td>\n",
              "    </tr>\n",
              "    <tr>\n",
              "      <th>75%</th>\n",
              "      <td>1.111900e+06</td>\n",
              "      <td>3.000000e+00</td>\n",
              "      <td>2.900000e+01</td>\n",
              "      <td>1.000000e+00</td>\n",
              "    </tr>\n",
              "    <tr>\n",
              "      <th>max</th>\n",
              "      <td>1.482534e+06</td>\n",
              "      <td>5.000000e+00</td>\n",
              "      <td>2.009000e+03</td>\n",
              "      <td>1.000000e+00</td>\n",
              "    </tr>\n",
              "  </tbody>\n",
              "</table>\n",
              "</div>"
            ],
            "text/plain": [
              "           train_id  item_condition_id         price      shipping\n",
              "count  1.482535e+06       1.482535e+06  1.482535e+06  1.482535e+06\n",
              "mean   7.412670e+05       1.907380e+00  2.673752e+01  4.472744e-01\n",
              "std    4.279711e+05       9.031586e-01  3.858607e+01  4.972124e-01\n",
              "min    0.000000e+00       1.000000e+00  0.000000e+00  0.000000e+00\n",
              "25%    3.706335e+05       1.000000e+00  1.000000e+01  0.000000e+00\n",
              "50%    7.412670e+05       2.000000e+00  1.700000e+01  0.000000e+00\n",
              "75%    1.111900e+06       3.000000e+00  2.900000e+01  1.000000e+00\n",
              "max    1.482534e+06       5.000000e+00  2.009000e+03  1.000000e+00"
            ]
          },
          "metadata": {
            "tags": []
          },
          "execution_count": 7
        }
      ]
    },
    {
      "cell_type": "markdown",
      "metadata": {
        "id": "jpQatbFRbs84",
        "colab_type": "text"
      },
      "source": [
        "##  1.2 Data Cleaning"
      ]
    },
    {
      "cell_type": "code",
      "metadata": {
        "id": "AHp4TAFZYWcn",
        "colab_type": "code",
        "outputId": "ea4ad3a8-7c07-494f-ab60-b78b4379a89a",
        "colab": {
          "base_uri": "https://localhost:8080/",
          "height": 170
        }
      },
      "source": [
        "train_data.price.describe().apply(lambda x: format(x, 'f'))"
      ],
      "execution_count": 8,
      "outputs": [
        {
          "output_type": "execute_result",
          "data": {
            "text/plain": [
              "count    1482535.000000\n",
              "mean          26.737516\n",
              "std           38.586066\n",
              "min            0.000000\n",
              "25%           10.000000\n",
              "50%           17.000000\n",
              "75%           29.000000\n",
              "max         2009.000000\n",
              "Name: price, dtype: object"
            ]
          },
          "metadata": {
            "tags": []
          },
          "execution_count": 8
        }
      ]
    },
    {
      "cell_type": "markdown",
      "metadata": {
        "id": "stPGASjfn8D9",
        "colab_type": "text"
      },
      "source": [
        "We can gather that the 75% of the products are price $29 or less."
      ]
    },
    {
      "cell_type": "markdown",
      "metadata": {
        "id": "jsvwXz5Edum9",
        "colab_type": "text"
      },
      "source": [
        "As per Mercari policy, it allowed product pricing between `$3-$2000` when this dataset was released in 2017. So the datapoints out of that range seem to be incorrect. Removing them helps the models."
      ]
    },
    {
      "cell_type": "code",
      "metadata": {
        "id": "IjLNsMByatEl",
        "colab_type": "code",
        "outputId": "64e0e662-e81a-4c47-d1a5-c04aa43f5c72",
        "colab": {
          "base_uri": "https://localhost:8080/",
          "height": 34
        }
      },
      "source": [
        "# Remove low prices, anything below 3\n",
        "train_data = train_data.drop(train_data[(train_data.price < 3.0)].index)\n",
        "train_data.shape"
      ],
      "execution_count": 9,
      "outputs": [
        {
          "output_type": "execute_result",
          "data": {
            "text/plain": [
              "(1481661, 8)"
            ]
          },
          "metadata": {
            "tags": []
          },
          "execution_count": 9
        }
      ]
    },
    {
      "cell_type": "code",
      "metadata": {
        "id": "en4CgKt3dyUx",
        "colab_type": "code",
        "colab": {}
      },
      "source": [
        "train_data = train_data.drop(train_data[(train_data.price > 2000)].index)\n",
        "train_data.shape"
      ],
      "execution_count": 0,
      "outputs": []
    },
    {
      "cell_type": "code",
      "metadata": {
        "id": "sNhWvHWzoLHC",
        "colab_type": "code",
        "outputId": "3a001929-a690-4b6c-caa7-742cf2761483",
        "colab": {
          "base_uri": "https://localhost:8080/",
          "height": 170
        }
      },
      "source": [
        "train_data.price.describe().apply(lambda x: format(x, 'f'))"
      ],
      "execution_count": 0,
      "outputs": [
        {
          "output_type": "execute_result",
          "data": {
            "text/plain": [
              "count    1481658.000000\n",
              "mean          26.749280\n",
              "std           38.489080\n",
              "min            3.000000\n",
              "25%           10.000000\n",
              "50%           17.000000\n",
              "75%           29.000000\n",
              "max         2000.000000\n",
              "Name: price, dtype: object"
            ]
          },
          "metadata": {
            "tags": []
          },
          "execution_count": 11
        }
      ]
    },
    {
      "cell_type": "markdown",
      "metadata": {
        "id": "LGoXaWFAoWpk",
        "colab_type": "text"
      },
      "source": [
        "Now, the minimum has changed from `$0 to $3` but the rest of quantiles remain same. "
      ]
    },
    {
      "cell_type": "markdown",
      "metadata": {
        "id": "mYAzkNhJou1i",
        "colab_type": "text"
      },
      "source": [
        "#### Handling Missing Data"
      ]
    },
    {
      "cell_type": "code",
      "metadata": {
        "id": "5kYrQHoEqpuK",
        "colab_type": "code",
        "outputId": "9099eb6d-fc72-4297-a9e6-25c40af8793c",
        "colab": {
          "base_uri": "https://localhost:8080/",
          "height": 153
        }
      },
      "source": [
        "# Check for missing values\n",
        "train_data.isnull().sum()"
      ],
      "execution_count": 0,
      "outputs": [
        {
          "output_type": "execute_result",
          "data": {
            "text/plain": [
              "test_id                    0\n",
              "name                       0\n",
              "item_condition_id          0\n",
              "category_name          14833\n",
              "brand_name           1476490\n",
              "shipping                   0\n",
              "item_description           6\n",
              "dtype: int64"
            ]
          },
          "metadata": {
            "tags": []
          },
          "execution_count": 31
        }
      ]
    },
    {
      "cell_type": "code",
      "metadata": {
        "id": "ZOzjzkPSqwiw",
        "colab_type": "code",
        "outputId": "dd3f4866-995a-4b37-95fc-2ad2446552ca",
        "colab": {
          "base_uri": "https://localhost:8080/",
          "height": 170
        }
      },
      "source": [
        "# Get the percentage of missing data for each column.\n",
        "train_data.isnull().sum().div(len(train_data)*.01, axis='rows').apply(lambda x: format(x, 'f'))"
      ],
      "execution_count": 0,
      "outputs": [
        {
          "output_type": "execute_result",
          "data": {
            "text/plain": [
              "train_id              0.000000\n",
              "name                  0.000000\n",
              "item_condition_id     0.000000\n",
              "category_name         0.426144\n",
              "brand_name           42.677595\n",
              "price                 0.000000\n",
              "shipping              0.000000\n",
              "item_description      0.000270\n",
              "dtype: object"
            ]
          },
          "metadata": {
            "tags": []
          },
          "execution_count": 13
        }
      ]
    },
    {
      "cell_type": "markdown",
      "metadata": {
        "id": "-DJ-zhiQq7PS",
        "colab_type": "text"
      },
      "source": [
        "The variables brand_name has a substantial amount of missing data. "
      ]
    },
    {
      "cell_type": "code",
      "metadata": {
        "id": "T9lzFiNzr6u7",
        "colab_type": "code",
        "outputId": "f67dcbcc-ad25-436e-c12c-db51b70ad117",
        "colab": {
          "base_uri": "https://localhost:8080/",
          "height": 221
        }
      },
      "source": [
        "df_with_no_desc = train_data[train_data.item_description.str.contains(pat='no description yet', case=False, na=False, regex=False)]\n",
        "print(\"Total {} datapoints have 'No description yet' as their  description.\".format(str(len(df_with_no_desc))))\n",
        "display(df_with_no_desc.head())\n",
        "del df_with_no_desc"
      ],
      "execution_count": 0,
      "outputs": [
        {
          "output_type": "stream",
          "text": [
            "Total 82623 datapoints have 'No description yet' as their  description.\n"
          ],
          "name": "stdout"
        },
        {
          "output_type": "display_data",
          "data": {
            "text/html": [
              "<div>\n",
              "<style scoped>\n",
              "    .dataframe tbody tr th:only-of-type {\n",
              "        vertical-align: middle;\n",
              "    }\n",
              "\n",
              "    .dataframe tbody tr th {\n",
              "        vertical-align: top;\n",
              "    }\n",
              "\n",
              "    .dataframe thead th {\n",
              "        text-align: right;\n",
              "    }\n",
              "</style>\n",
              "<table border=\"1\" class=\"dataframe\">\n",
              "  <thead>\n",
              "    <tr style=\"text-align: right;\">\n",
              "      <th></th>\n",
              "      <th>train_id</th>\n",
              "      <th>name</th>\n",
              "      <th>item_condition_id</th>\n",
              "      <th>category_name</th>\n",
              "      <th>brand_name</th>\n",
              "      <th>price</th>\n",
              "      <th>shipping</th>\n",
              "      <th>item_description</th>\n",
              "    </tr>\n",
              "  </thead>\n",
              "  <tbody>\n",
              "    <tr>\n",
              "      <th>0</th>\n",
              "      <td>0</td>\n",
              "      <td>MLB Cincinnati Reds T Shirt Size XL</td>\n",
              "      <td>3</td>\n",
              "      <td>Men/Tops/T-shirts</td>\n",
              "      <td>NaN</td>\n",
              "      <td>10.0</td>\n",
              "      <td>1</td>\n",
              "      <td>No description yet</td>\n",
              "    </tr>\n",
              "    <tr>\n",
              "      <th>13</th>\n",
              "      <td>13</td>\n",
              "      <td>Sharpener and eraser</td>\n",
              "      <td>1</td>\n",
              "      <td>Other/Office supplies/School Supplies</td>\n",
              "      <td>Scholastic</td>\n",
              "      <td>4.0</td>\n",
              "      <td>1</td>\n",
              "      <td>No description yet</td>\n",
              "    </tr>\n",
              "    <tr>\n",
              "      <th>31</th>\n",
              "      <td>31</td>\n",
              "      <td>New Lularoe OS leggings, stars</td>\n",
              "      <td>1</td>\n",
              "      <td>Women/Athletic Apparel/Pants, Tights, Leggings</td>\n",
              "      <td>NaN</td>\n",
              "      <td>50.0</td>\n",
              "      <td>1</td>\n",
              "      <td>No description yet</td>\n",
              "    </tr>\n",
              "    <tr>\n",
              "      <th>90</th>\n",
              "      <td>90</td>\n",
              "      <td>Jewel holder</td>\n",
              "      <td>2</td>\n",
              "      <td>Home/Storage &amp; Organization/Jewelry Boxes &amp; Or...</td>\n",
              "      <td>Target</td>\n",
              "      <td>7.0</td>\n",
              "      <td>1</td>\n",
              "      <td>No description yet</td>\n",
              "    </tr>\n",
              "    <tr>\n",
              "      <th>117</th>\n",
              "      <td>117</td>\n",
              "      <td>Eyeko liquid eyeliner</td>\n",
              "      <td>1</td>\n",
              "      <td>Beauty/Makeup/Eyes</td>\n",
              "      <td>NaN</td>\n",
              "      <td>5.0</td>\n",
              "      <td>1</td>\n",
              "      <td>No description yet</td>\n",
              "    </tr>\n",
              "  </tbody>\n",
              "</table>\n",
              "</div>"
            ],
            "text/plain": [
              "     train_id  ...    item_description\n",
              "0           0  ...  No description yet\n",
              "13         13  ...  No description yet\n",
              "31         31  ...  No description yet\n",
              "90         90  ...  No description yet\n",
              "117       117  ...  No description yet\n",
              "\n",
              "[5 rows x 8 columns]"
            ]
          },
          "metadata": {
            "tags": []
          }
        }
      ]
    },
    {
      "cell_type": "markdown",
      "metadata": {
        "id": "w12ULihavewW",
        "colab_type": "text"
      },
      "source": [
        "We will consider these datapoints as NaN for the purpose of handling missing values. "
      ]
    },
    {
      "cell_type": "code",
      "metadata": {
        "id": "zwQzzB5Pq4xl",
        "colab_type": "code",
        "outputId": "42ff49c8-9257-4cee-d7d6-15768283e99f",
        "colab": {
          "base_uri": "https://localhost:8080/",
          "height": 357
        }
      },
      "source": [
        "def fill_missing_data(data):\n",
        "    data.category_name.fillna(value = \"unk_cat1/unk_cat2/unk_cat3\", inplace = True)\n",
        "    data.item_description.fillna(value = \"unk_description\", inplace = True)\n",
        "    data.loc[data.item_description.str.contains(pat='no description yet', case=False, na=False, regex=False), 'item_description'] = \"unk_description\"\n",
        "    return data\n",
        "\n",
        "train_data = fill_missing_data(train_data)\n",
        "display(train_data.head())"
      ],
      "execution_count": 0,
      "outputs": [
        {
          "output_type": "display_data",
          "data": {
            "text/html": [
              "<div>\n",
              "<style scoped>\n",
              "    .dataframe tbody tr th:only-of-type {\n",
              "        vertical-align: middle;\n",
              "    }\n",
              "\n",
              "    .dataframe tbody tr th {\n",
              "        vertical-align: top;\n",
              "    }\n",
              "\n",
              "    .dataframe thead th {\n",
              "        text-align: right;\n",
              "    }\n",
              "</style>\n",
              "<table border=\"1\" class=\"dataframe\">\n",
              "  <thead>\n",
              "    <tr style=\"text-align: right;\">\n",
              "      <th></th>\n",
              "      <th>test_id</th>\n",
              "      <th>name</th>\n",
              "      <th>item_condition_id</th>\n",
              "      <th>category_name</th>\n",
              "      <th>brand_name</th>\n",
              "      <th>shipping</th>\n",
              "      <th>item_description</th>\n",
              "    </tr>\n",
              "  </thead>\n",
              "  <tbody>\n",
              "    <tr>\n",
              "      <th>0</th>\n",
              "      <td>0</td>\n",
              "      <td>Breast cancer \"I fight like a girl\" ring</td>\n",
              "      <td>1</td>\n",
              "      <td>Women/Jewelry/Rings</td>\n",
              "      <td>NaN</td>\n",
              "      <td>1</td>\n",
              "      <td>Size 7</td>\n",
              "    </tr>\n",
              "    <tr>\n",
              "      <th>1</th>\n",
              "      <td>1</td>\n",
              "      <td>25 pcs NEW 7.5\"x12\" Kraft Bubble Mailers</td>\n",
              "      <td>1</td>\n",
              "      <td>Other/Office supplies/Shipping Supplies</td>\n",
              "      <td>NaN</td>\n",
              "      <td>1</td>\n",
              "      <td>25 pcs NEW 7.5\"x12\" Kraft Bubble Mailers Lined...</td>\n",
              "    </tr>\n",
              "    <tr>\n",
              "      <th>2</th>\n",
              "      <td>2</td>\n",
              "      <td>Coach bag</td>\n",
              "      <td>1</td>\n",
              "      <td>Vintage &amp; Collectibles/Bags and Purses/Handbag</td>\n",
              "      <td>Coach</td>\n",
              "      <td>1</td>\n",
              "      <td>Brand new coach bag. Bought for [rm] at a Coac...</td>\n",
              "    </tr>\n",
              "    <tr>\n",
              "      <th>3</th>\n",
              "      <td>3</td>\n",
              "      <td>Floral Kimono</td>\n",
              "      <td>2</td>\n",
              "      <td>Women/Sweaters/Cardigan</td>\n",
              "      <td>NaN</td>\n",
              "      <td>0</td>\n",
              "      <td>-floral kimono -never worn -lightweight and pe...</td>\n",
              "    </tr>\n",
              "    <tr>\n",
              "      <th>4</th>\n",
              "      <td>4</td>\n",
              "      <td>Life after Death</td>\n",
              "      <td>3</td>\n",
              "      <td>Other/Books/Religion &amp; Spirituality</td>\n",
              "      <td>NaN</td>\n",
              "      <td>1</td>\n",
              "      <td>Rediscovering life after the loss of a loved o...</td>\n",
              "    </tr>\n",
              "  </tbody>\n",
              "</table>\n",
              "</div>"
            ],
            "text/plain": [
              "   test_id  ...                                   item_description\n",
              "0        0  ...                                             Size 7\n",
              "1        1  ...  25 pcs NEW 7.5\"x12\" Kraft Bubble Mailers Lined...\n",
              "2        2  ...  Brand new coach bag. Bought for [rm] at a Coac...\n",
              "3        3  ...  -floral kimono -never worn -lightweight and pe...\n",
              "4        4  ...  Rediscovering life after the loss of a loved o...\n",
              "\n",
              "[5 rows x 7 columns]"
            ]
          },
          "metadata": {
            "tags": []
          }
        }
      ]
    },
    {
      "cell_type": "markdown",
      "metadata": {
        "id": "SYuvXb8ey7R3",
        "colab_type": "text"
      },
      "source": [
        "We will handle the missing values present in *brand_name* column at the feature engineering stage below. This is done because replacing 42% of datapoints with 'unk_brand' value will not be optimal for a ML model"
      ]
    },
    {
      "cell_type": "markdown",
      "metadata": {
        "id": "XYVbN2Ll7ei0",
        "colab_type": "text"
      },
      "source": [
        "##  1.3 Data Wrangling"
      ]
    },
    {
      "cell_type": "markdown",
      "metadata": {
        "id": "Jh0BfGym8_6V",
        "colab_type": "text"
      },
      "source": [
        "### Feature Engineering"
      ]
    },
    {
      "cell_type": "markdown",
      "metadata": {
        "id": "lmoM4TBU71_r",
        "colab_type": "text"
      },
      "source": [
        "#### Create new feature '*name*' by concatenating existing '*name*' and '*brand_name*' columns."
      ]
    },
    {
      "cell_type": "code",
      "metadata": {
        "id": "xLjk8s2c7n3h",
        "colab_type": "code",
        "outputId": "d61004b8-d6f7-4748-b5e6-dfc552478d04",
        "colab": {
          "base_uri": "https://localhost:8080/",
          "height": 289
        }
      },
      "source": [
        "train_data['name'] = train_data['name'].fillna('') + ' ' + train_data['brand_name'].fillna('')\n",
        "train_data.drop('brand_name', axis=1, inplace=True)\n",
        "display(train_data.head())"
      ],
      "execution_count": 0,
      "outputs": [
        {
          "output_type": "display_data",
          "data": {
            "text/html": [
              "<div>\n",
              "<style scoped>\n",
              "    .dataframe tbody tr th:only-of-type {\n",
              "        vertical-align: middle;\n",
              "    }\n",
              "\n",
              "    .dataframe tbody tr th {\n",
              "        vertical-align: top;\n",
              "    }\n",
              "\n",
              "    .dataframe thead th {\n",
              "        text-align: right;\n",
              "    }\n",
              "</style>\n",
              "<table border=\"1\" class=\"dataframe\">\n",
              "  <thead>\n",
              "    <tr style=\"text-align: right;\">\n",
              "      <th></th>\n",
              "      <th>test_id</th>\n",
              "      <th>name</th>\n",
              "      <th>item_condition_id</th>\n",
              "      <th>category_name</th>\n",
              "      <th>shipping</th>\n",
              "      <th>item_description</th>\n",
              "    </tr>\n",
              "  </thead>\n",
              "  <tbody>\n",
              "    <tr>\n",
              "      <th>0</th>\n",
              "      <td>0</td>\n",
              "      <td>Breast cancer \"I fight like a girl\" ring</td>\n",
              "      <td>1</td>\n",
              "      <td>Women/Jewelry/Rings</td>\n",
              "      <td>1</td>\n",
              "      <td>Size 7</td>\n",
              "    </tr>\n",
              "    <tr>\n",
              "      <th>1</th>\n",
              "      <td>1</td>\n",
              "      <td>25 pcs NEW 7.5\"x12\" Kraft Bubble Mailers</td>\n",
              "      <td>1</td>\n",
              "      <td>Other/Office supplies/Shipping Supplies</td>\n",
              "      <td>1</td>\n",
              "      <td>25 pcs NEW 7.5\"x12\" Kraft Bubble Mailers Lined...</td>\n",
              "    </tr>\n",
              "    <tr>\n",
              "      <th>2</th>\n",
              "      <td>2</td>\n",
              "      <td>Coach bag Coach</td>\n",
              "      <td>1</td>\n",
              "      <td>Vintage &amp; Collectibles/Bags and Purses/Handbag</td>\n",
              "      <td>1</td>\n",
              "      <td>Brand new coach bag. Bought for [rm] at a Coac...</td>\n",
              "    </tr>\n",
              "    <tr>\n",
              "      <th>3</th>\n",
              "      <td>3</td>\n",
              "      <td>Floral Kimono</td>\n",
              "      <td>2</td>\n",
              "      <td>Women/Sweaters/Cardigan</td>\n",
              "      <td>0</td>\n",
              "      <td>-floral kimono -never worn -lightweight and pe...</td>\n",
              "    </tr>\n",
              "    <tr>\n",
              "      <th>4</th>\n",
              "      <td>4</td>\n",
              "      <td>Life after Death</td>\n",
              "      <td>3</td>\n",
              "      <td>Other/Books/Religion &amp; Spirituality</td>\n",
              "      <td>1</td>\n",
              "      <td>Rediscovering life after the loss of a loved o...</td>\n",
              "    </tr>\n",
              "  </tbody>\n",
              "</table>\n",
              "</div>"
            ],
            "text/plain": [
              "   test_id  ...                                   item_description\n",
              "0        0  ...                                             Size 7\n",
              "1        1  ...  25 pcs NEW 7.5\"x12\" Kraft Bubble Mailers Lined...\n",
              "2        2  ...  Brand new coach bag. Bought for [rm] at a Coac...\n",
              "3        3  ...  -floral kimono -never worn -lightweight and pe...\n",
              "4        4  ...  Rediscovering life after the loss of a loved o...\n",
              "\n",
              "[5 rows x 6 columns]"
            ]
          },
          "metadata": {
            "tags": []
          }
        }
      ]
    },
    {
      "cell_type": "markdown",
      "metadata": {
        "id": "en5_ZyEA0Yh4",
        "colab_type": "text"
      },
      "source": [
        "#### Strip extra whitespaces"
      ]
    },
    {
      "cell_type": "code",
      "metadata": {
        "id": "10mB6OAh0jhK",
        "colab_type": "code",
        "outputId": "7489cce9-9166-42e1-c439-ce9f0b023dde",
        "colab": {
          "base_uri": "https://localhost:8080/",
          "height": 340
        }
      },
      "source": [
        "def remove_whitespace( x ):\n",
        "    if isinstance( x, str ):\n",
        "        return x.strip()\n",
        "    else:\n",
        "        return x\n",
        "print(\"BEFORE: No. of unique values\\n\")\n",
        "display(train_data.nunique())\n",
        "train_data = train_data.applymap(remove_whitespace)\n",
        "print(\"\\nAFTER: No. of unique values\\n\")\n",
        "display(train_data.nunique())"
      ],
      "execution_count": 0,
      "outputs": [
        {
          "output_type": "stream",
          "text": [
            "BEFORE: No. of unique values\n",
            "\n"
          ],
          "name": "stdout"
        },
        {
          "output_type": "display_data",
          "data": {
            "text/plain": [
              "test_id              3460725\n",
              "name                 2789508\n",
              "item_condition_id          5\n",
              "category_name           1336\n",
              "shipping                   2\n",
              "item_description     2921671\n",
              "dtype: int64"
            ]
          },
          "metadata": {
            "tags": []
          }
        },
        {
          "output_type": "stream",
          "text": [
            "\n",
            "AFTER: No. of unique values\n",
            "\n"
          ],
          "name": "stdout"
        },
        {
          "output_type": "display_data",
          "data": {
            "text/plain": [
              "test_id              3460725\n",
              "name                 2789294\n",
              "item_condition_id          5\n",
              "category_name           1336\n",
              "shipping                   2\n",
              "item_description     2921671\n",
              "dtype: int64"
            ]
          },
          "metadata": {
            "tags": []
          }
        }
      ]
    },
    {
      "cell_type": "markdown",
      "metadata": {
        "id": "1exYyP_HldAb",
        "colab_type": "text"
      },
      "source": [
        "#### Standardizing the target variable price\n"
      ]
    },
    {
      "cell_type": "code",
      "metadata": {
        "id": "2TTcFMtY9Krr",
        "colab_type": "code",
        "outputId": "8538831f-2a87-4ea3-9684-f9873f5051d4",
        "colab": {
          "base_uri": "https://localhost:8080/",
          "height": 119
        }
      },
      "source": [
        "# Standardize target variable price\n",
        "from sklearn.preprocessing import StandardScaler\n",
        "scalar=StandardScaler()\n",
        "scalar.fit(train_data.price.values.reshape(-1,1))\n",
        "joblib.dump(scalar, input_folder + 'dumps/scaler.pkl') # save the scalar model \n",
        "train_data['price'] = scalar.transform(train_data.price.values.reshape(-1,1))\n",
        "display(train_data.price.head())"
      ],
      "execution_count": 0,
      "outputs": [
        {
          "output_type": "display_data",
          "data": {
            "text/plain": [
              "0   -0.435170\n",
              "1    0.656049\n",
              "2   -0.435170\n",
              "3    0.214365\n",
              "4    0.448198\n",
              "Name: price, dtype: float64"
            ]
          },
          "metadata": {
            "tags": []
          }
        }
      ]
    },
    {
      "cell_type": "markdown",
      "metadata": {
        "id": "Oz8nWR-f-q5s",
        "colab_type": "text"
      },
      "source": [
        "#### Feature extraction from item_description\n",
        "\n"
      ]
    },
    {
      "cell_type": "markdown",
      "metadata": {
        "id": "DQhDGZo7BvXr",
        "colab_type": "text"
      },
      "source": [
        "##### Calculate readability score from the item_description attribute."
      ]
    },
    {
      "cell_type": "code",
      "metadata": {
        "id": "_DtEjF-CQl_w",
        "colab_type": "code",
        "outputId": "ded96812-97dc-45f6-bd24-279c3d2c2b61",
        "colab": {
          "base_uri": "https://localhost:8080/",
          "height": 238
        }
      },
      "source": [
        "%%time\n",
        "ddata = dd.from_pandas(train_data, npartitions=2)\n",
        "train_data['item_description_readability_score'] = ddata['item_description'].apply(lambda x: textstat.gunning_fog(x) if x is not '' and x.lower()!='unk_description' else 99, meta=(None, 'float64')).compute(scheduler='multiprocessing')\n",
        "display(train_data[['item_description', 'item_description_readability_score']].head())"
      ],
      "execution_count": 0,
      "outputs": [
        {
          "output_type": "display_data",
          "data": {
            "text/html": [
              "<div>\n",
              "<style scoped>\n",
              "    .dataframe tbody tr th:only-of-type {\n",
              "        vertical-align: middle;\n",
              "    }\n",
              "\n",
              "    .dataframe tbody tr th {\n",
              "        vertical-align: top;\n",
              "    }\n",
              "\n",
              "    .dataframe thead th {\n",
              "        text-align: right;\n",
              "    }\n",
              "</style>\n",
              "<table border=\"1\" class=\"dataframe\">\n",
              "  <thead>\n",
              "    <tr style=\"text-align: right;\">\n",
              "      <th></th>\n",
              "      <th>item_description</th>\n",
              "      <th>item_description_readability_score</th>\n",
              "    </tr>\n",
              "  </thead>\n",
              "  <tbody>\n",
              "    <tr>\n",
              "      <th>0</th>\n",
              "      <td>Size 7</td>\n",
              "      <td>0.80</td>\n",
              "    </tr>\n",
              "    <tr>\n",
              "      <th>1</th>\n",
              "      <td>25 pcs NEW 7.5\"x12\" Kraft Bubble Mailers Lined...</td>\n",
              "      <td>18.36</td>\n",
              "    </tr>\n",
              "    <tr>\n",
              "      <th>2</th>\n",
              "      <td>Brand new coach bag. Bought for [rm] at a Coac...</td>\n",
              "      <td>2.20</td>\n",
              "    </tr>\n",
              "    <tr>\n",
              "      <th>3</th>\n",
              "      <td>-floral kimono -never worn -lightweight and pe...</td>\n",
              "      <td>4.00</td>\n",
              "    </tr>\n",
              "    <tr>\n",
              "      <th>4</th>\n",
              "      <td>Rediscovering life after the loss of a loved o...</td>\n",
              "      <td>11.32</td>\n",
              "    </tr>\n",
              "  </tbody>\n",
              "</table>\n",
              "</div>"
            ],
            "text/plain": [
              "                                    item_description  item_description_readability_score\n",
              "0                                             Size 7                                0.80\n",
              "1  25 pcs NEW 7.5\"x12\" Kraft Bubble Mailers Lined...                               18.36\n",
              "2  Brand new coach bag. Bought for [rm] at a Coac...                                2.20\n",
              "3  -floral kimono -never worn -lightweight and pe...                                4.00\n",
              "4  Rediscovering life after the loss of a loved o...                               11.32"
            ]
          },
          "metadata": {
            "tags": []
          }
        },
        {
          "output_type": "stream",
          "text": [
            "CPU times: user 47.1 s, sys: 5.47 s, total: 52.6 s\n",
            "Wall time: 7min 16s\n"
          ],
          "name": "stdout"
        }
      ]
    },
    {
      "cell_type": "markdown",
      "metadata": {
        "id": "wUUznKuKB4lm",
        "colab_type": "text"
      },
      "source": [
        "##### Calculate word counts in 'item_description' and 'name' columns "
      ]
    },
    {
      "cell_type": "code",
      "metadata": {
        "id": "IExMSQQtetxW",
        "colab_type": "code",
        "outputId": "4e82c90a-4379-42e3-861e-81af4c806f8d",
        "colab": {
          "base_uri": "https://localhost:8080/",
          "height": 513
        }
      },
      "source": [
        "%%time\n",
        "# get name and description lengths\n",
        "def wordCount(text):\n",
        "    try:\n",
        "        if text == 'No description yet':\n",
        "            return 0\n",
        "        else:\n",
        "            text = text.lower()\n",
        "            words = [w for w in text.split(\" \")]\n",
        "            return len(words)\n",
        "    except: \n",
        "        return 0\n",
        "train_data['desc_len'] = train_data['item_description'].apply(lambda x: wordCount(x))\n",
        "train_data['name_len'] = train_data['name'].apply(lambda x: wordCount(x))\n",
        "display(train_data.head())"
      ],
      "execution_count": 0,
      "outputs": [
        {
          "output_type": "display_data",
          "data": {
            "text/html": [
              "<div>\n",
              "<style scoped>\n",
              "    .dataframe tbody tr th:only-of-type {\n",
              "        vertical-align: middle;\n",
              "    }\n",
              "\n",
              "    .dataframe tbody tr th {\n",
              "        vertical-align: top;\n",
              "    }\n",
              "\n",
              "    .dataframe thead th {\n",
              "        text-align: right;\n",
              "    }\n",
              "</style>\n",
              "<table border=\"1\" class=\"dataframe\">\n",
              "  <thead>\n",
              "    <tr style=\"text-align: right;\">\n",
              "      <th></th>\n",
              "      <th>test_id</th>\n",
              "      <th>name</th>\n",
              "      <th>item_condition_id</th>\n",
              "      <th>category_name</th>\n",
              "      <th>shipping</th>\n",
              "      <th>item_description</th>\n",
              "      <th>item_description_readability_score</th>\n",
              "      <th>desc_len</th>\n",
              "      <th>name_len</th>\n",
              "    </tr>\n",
              "  </thead>\n",
              "  <tbody>\n",
              "    <tr>\n",
              "      <th>0</th>\n",
              "      <td>0</td>\n",
              "      <td>Breast cancer \"I fight like a girl\" ring</td>\n",
              "      <td>1</td>\n",
              "      <td>Women/Jewelry/Rings</td>\n",
              "      <td>1</td>\n",
              "      <td>Size 7</td>\n",
              "      <td>0.80</td>\n",
              "      <td>2</td>\n",
              "      <td>8</td>\n",
              "    </tr>\n",
              "    <tr>\n",
              "      <th>1</th>\n",
              "      <td>1</td>\n",
              "      <td>25 pcs NEW 7.5\"x12\" Kraft Bubble Mailers</td>\n",
              "      <td>1</td>\n",
              "      <td>Other/Office supplies/Shipping Supplies</td>\n",
              "      <td>1</td>\n",
              "      <td>25 pcs NEW 7.5\"x12\" Kraft Bubble Mailers Lined...</td>\n",
              "      <td>18.36</td>\n",
              "      <td>38</td>\n",
              "      <td>7</td>\n",
              "    </tr>\n",
              "    <tr>\n",
              "      <th>2</th>\n",
              "      <td>2</td>\n",
              "      <td>Coach bag Coach</td>\n",
              "      <td>1</td>\n",
              "      <td>Vintage &amp; Collectibles/Bags and Purses/Handbag</td>\n",
              "      <td>1</td>\n",
              "      <td>Brand new coach bag. Bought for [rm] at a Coac...</td>\n",
              "      <td>2.20</td>\n",
              "      <td>11</td>\n",
              "      <td>3</td>\n",
              "    </tr>\n",
              "    <tr>\n",
              "      <th>3</th>\n",
              "      <td>3</td>\n",
              "      <td>Floral Kimono</td>\n",
              "      <td>2</td>\n",
              "      <td>Women/Sweaters/Cardigan</td>\n",
              "      <td>0</td>\n",
              "      <td>-floral kimono -never worn -lightweight and pe...</td>\n",
              "      <td>4.00</td>\n",
              "      <td>10</td>\n",
              "      <td>2</td>\n",
              "    </tr>\n",
              "    <tr>\n",
              "      <th>4</th>\n",
              "      <td>4</td>\n",
              "      <td>Life after Death</td>\n",
              "      <td>3</td>\n",
              "      <td>Other/Books/Religion &amp; Spirituality</td>\n",
              "      <td>1</td>\n",
              "      <td>Rediscovering life after the loss of a loved o...</td>\n",
              "      <td>11.32</td>\n",
              "      <td>29</td>\n",
              "      <td>3</td>\n",
              "    </tr>\n",
              "  </tbody>\n",
              "</table>\n",
              "</div>"
            ],
            "text/plain": [
              "   test_id                                      name  ...  desc_len name_len\n",
              "0        0  Breast cancer \"I fight like a girl\" ring  ...         2        8\n",
              "1        1  25 pcs NEW 7.5\"x12\" Kraft Bubble Mailers  ...        38        7\n",
              "2        2                           Coach bag Coach  ...        11        3\n",
              "3        3                             Floral Kimono  ...        10        2\n",
              "4        4                          Life after Death  ...        29        3\n",
              "\n",
              "[5 rows x 9 columns]"
            ]
          },
          "metadata": {
            "tags": []
          }
        },
        {
          "output_type": "stream",
          "text": [
            "CPU times: user 19.8 s, sys: 6.7 ms, total: 19.8 s\n",
            "Wall time: 19.8 s\n"
          ],
          "name": "stdout"
        }
      ]
    },
    {
      "cell_type": "code",
      "metadata": {
        "id": "K5Jx0AwYH5XV",
        "colab_type": "code",
        "outputId": "946d8e97-75c4-4d0a-83a6-71b7108c7ff5",
        "colab": {
          "base_uri": "https://localhost:8080/",
          "height": 142
        }
      },
      "source": [
        "train_data[['name_len', 'desc_len', 'price']].corr(method='pearson')"
      ],
      "execution_count": 0,
      "outputs": [
        {
          "output_type": "execute_result",
          "data": {
            "text/html": [
              "<div>\n",
              "<style scoped>\n",
              "    .dataframe tbody tr th:only-of-type {\n",
              "        vertical-align: middle;\n",
              "    }\n",
              "\n",
              "    .dataframe tbody tr th {\n",
              "        vertical-align: top;\n",
              "    }\n",
              "\n",
              "    .dataframe thead th {\n",
              "        text-align: right;\n",
              "    }\n",
              "</style>\n",
              "<table border=\"1\" class=\"dataframe\">\n",
              "  <thead>\n",
              "    <tr style=\"text-align: right;\">\n",
              "      <th></th>\n",
              "      <th>name_len</th>\n",
              "      <th>desc_len</th>\n",
              "      <th>price</th>\n",
              "    </tr>\n",
              "  </thead>\n",
              "  <tbody>\n",
              "    <tr>\n",
              "      <th>name_len</th>\n",
              "      <td>1.000000</td>\n",
              "      <td>0.148235</td>\n",
              "      <td>0.074803</td>\n",
              "    </tr>\n",
              "    <tr>\n",
              "      <th>desc_len</th>\n",
              "      <td>0.148235</td>\n",
              "      <td>1.000000</td>\n",
              "      <td>0.048929</td>\n",
              "    </tr>\n",
              "    <tr>\n",
              "      <th>price</th>\n",
              "      <td>0.074803</td>\n",
              "      <td>0.048929</td>\n",
              "      <td>1.000000</td>\n",
              "    </tr>\n",
              "  </tbody>\n",
              "</table>\n",
              "</div>"
            ],
            "text/plain": [
              "          name_len  desc_len     price\n",
              "name_len  1.000000  0.148235  0.074803\n",
              "desc_len  0.148235  1.000000  0.048929\n",
              "price     0.074803  0.048929  1.000000"
            ]
          },
          "metadata": {
            "tags": []
          },
          "execution_count": 29
        }
      ]
    },
    {
      "cell_type": "markdown",
      "metadata": {
        "id": "IpjDr8q7fYj5",
        "colab_type": "text"
      },
      "source": [
        "**Important observation**:\n",
        "\n",
        "The length of the description i.e. the raw number of words used, does have a slight positive correlation with price. \n",
        "\n",
        "These lengths might boost the model performance."
      ]
    },
    {
      "cell_type": "markdown",
      "metadata": {
        "id": "6D2hA2WNAgfk",
        "colab_type": "text"
      },
      "source": [
        "#### Handling categorical variables"
      ]
    },
    {
      "cell_type": "markdown",
      "metadata": {
        "id": "XBRYXf_AAsmA",
        "colab_type": "text"
      },
      "source": [
        "The columns name, item_condition_id, category_name, brand_name have categorical values. Categorical values can be converted to One Hot Encoding to feed into a machine learning model. The column has fixed 5 unique values and we will transform that using OHE. \n",
        "\n",
        "The other remaining variables do not have fixed unique values, that can be problematic in OHE if the test dataset has new unique values/categories. These other variables alo have a large number of unique values, and this will create a very sparse matrix. Due to these problems, we will not transform them to OHE for now."
      ]
    },
    {
      "cell_type": "code",
      "metadata": {
        "id": "lf1wadW4z_hi",
        "colab_type": "code",
        "outputId": "88bfe823-7c1c-467a-8c1e-a3bfaf364310",
        "colab": {
          "base_uri": "https://localhost:8080/",
          "height": 479
        }
      },
      "source": [
        "#One-hot-encoding for item_condition_id\n",
        "train_data = pd.concat((train_data, pd.get_dummies(data=train_data.item_condition_id, prefix='item_condition_id')), axis=1)\n",
        "display(train_data.head())"
      ],
      "execution_count": 0,
      "outputs": [
        {
          "output_type": "display_data",
          "data": {
            "text/html": [
              "<div>\n",
              "<style scoped>\n",
              "    .dataframe tbody tr th:only-of-type {\n",
              "        vertical-align: middle;\n",
              "    }\n",
              "\n",
              "    .dataframe tbody tr th {\n",
              "        vertical-align: top;\n",
              "    }\n",
              "\n",
              "    .dataframe thead th {\n",
              "        text-align: right;\n",
              "    }\n",
              "</style>\n",
              "<table border=\"1\" class=\"dataframe\">\n",
              "  <thead>\n",
              "    <tr style=\"text-align: right;\">\n",
              "      <th></th>\n",
              "      <th>test_id</th>\n",
              "      <th>name</th>\n",
              "      <th>item_condition_id</th>\n",
              "      <th>category_name</th>\n",
              "      <th>shipping</th>\n",
              "      <th>item_description</th>\n",
              "      <th>item_description_readability_score</th>\n",
              "      <th>desc_len</th>\n",
              "      <th>name_len</th>\n",
              "      <th>item_condition_id_1</th>\n",
              "      <th>item_condition_id_2</th>\n",
              "      <th>item_condition_id_3</th>\n",
              "      <th>item_condition_id_4</th>\n",
              "      <th>item_condition_id_5</th>\n",
              "    </tr>\n",
              "  </thead>\n",
              "  <tbody>\n",
              "    <tr>\n",
              "      <th>0</th>\n",
              "      <td>0</td>\n",
              "      <td>Breast cancer \"I fight like a girl\" ring</td>\n",
              "      <td>1</td>\n",
              "      <td>Women/Jewelry/Rings</td>\n",
              "      <td>1</td>\n",
              "      <td>Size 7</td>\n",
              "      <td>0.80</td>\n",
              "      <td>2</td>\n",
              "      <td>8</td>\n",
              "      <td>1</td>\n",
              "      <td>0</td>\n",
              "      <td>0</td>\n",
              "      <td>0</td>\n",
              "      <td>0</td>\n",
              "    </tr>\n",
              "    <tr>\n",
              "      <th>1</th>\n",
              "      <td>1</td>\n",
              "      <td>25 pcs NEW 7.5\"x12\" Kraft Bubble Mailers</td>\n",
              "      <td>1</td>\n",
              "      <td>Other/Office supplies/Shipping Supplies</td>\n",
              "      <td>1</td>\n",
              "      <td>25 pcs NEW 7.5\"x12\" Kraft Bubble Mailers Lined...</td>\n",
              "      <td>18.36</td>\n",
              "      <td>38</td>\n",
              "      <td>7</td>\n",
              "      <td>1</td>\n",
              "      <td>0</td>\n",
              "      <td>0</td>\n",
              "      <td>0</td>\n",
              "      <td>0</td>\n",
              "    </tr>\n",
              "    <tr>\n",
              "      <th>2</th>\n",
              "      <td>2</td>\n",
              "      <td>Coach bag Coach</td>\n",
              "      <td>1</td>\n",
              "      <td>Vintage &amp; Collectibles/Bags and Purses/Handbag</td>\n",
              "      <td>1</td>\n",
              "      <td>Brand new coach bag. Bought for [rm] at a Coac...</td>\n",
              "      <td>2.20</td>\n",
              "      <td>11</td>\n",
              "      <td>3</td>\n",
              "      <td>1</td>\n",
              "      <td>0</td>\n",
              "      <td>0</td>\n",
              "      <td>0</td>\n",
              "      <td>0</td>\n",
              "    </tr>\n",
              "    <tr>\n",
              "      <th>3</th>\n",
              "      <td>3</td>\n",
              "      <td>Floral Kimono</td>\n",
              "      <td>2</td>\n",
              "      <td>Women/Sweaters/Cardigan</td>\n",
              "      <td>0</td>\n",
              "      <td>-floral kimono -never worn -lightweight and pe...</td>\n",
              "      <td>4.00</td>\n",
              "      <td>10</td>\n",
              "      <td>2</td>\n",
              "      <td>0</td>\n",
              "      <td>1</td>\n",
              "      <td>0</td>\n",
              "      <td>0</td>\n",
              "      <td>0</td>\n",
              "    </tr>\n",
              "    <tr>\n",
              "      <th>4</th>\n",
              "      <td>4</td>\n",
              "      <td>Life after Death</td>\n",
              "      <td>3</td>\n",
              "      <td>Other/Books/Religion &amp; Spirituality</td>\n",
              "      <td>1</td>\n",
              "      <td>Rediscovering life after the loss of a loved o...</td>\n",
              "      <td>11.32</td>\n",
              "      <td>29</td>\n",
              "      <td>3</td>\n",
              "      <td>0</td>\n",
              "      <td>0</td>\n",
              "      <td>1</td>\n",
              "      <td>0</td>\n",
              "      <td>0</td>\n",
              "    </tr>\n",
              "  </tbody>\n",
              "</table>\n",
              "</div>"
            ],
            "text/plain": [
              "   test_id  ... item_condition_id_5\n",
              "0        0  ...                   0\n",
              "1        1  ...                   0\n",
              "2        2  ...                   0\n",
              "3        3  ...                   0\n",
              "4        4  ...                   0\n",
              "\n",
              "[5 rows x 14 columns]"
            ]
          },
          "metadata": {
            "tags": []
          }
        }
      ]
    },
    {
      "cell_type": "markdown",
      "metadata": {
        "id": "D_sMhMfDFHiC",
        "colab_type": "text"
      },
      "source": [
        "##### Split the category column"
      ]
    },
    {
      "cell_type": "code",
      "metadata": {
        "id": "H4BJp2OKFiW-",
        "colab_type": "code",
        "outputId": "fcd733e1-1b7e-4405-a377-275ac8fd6d5f",
        "colab": {
          "base_uri": "https://localhost:8080/",
          "height": 51
        }
      },
      "source": [
        "print(\"Total datapoints: {}\\nNo. of datapoints that have 3 sub categories: {}\".format(len(train_data), len(train_data.category_name.apply(lambda x: len(x.split('/'))) == 3)))"
      ],
      "execution_count": 0,
      "outputs": [
        {
          "output_type": "stream",
          "text": [
            "Total datapoints: 1481658\n",
            "No. of datapoints that have 3 sub categories: 1481658\n"
          ],
          "name": "stdout"
        }
      ]
    },
    {
      "cell_type": "markdown",
      "metadata": {
        "id": "ziZGRYYggILa",
        "colab_type": "text"
      },
      "source": [
        "Every category has 3 subparts. We can split them into individual subparts. We split the category_name into 3 parts. Our models can get more information this way."
      ]
    },
    {
      "cell_type": "code",
      "metadata": {
        "id": "_YZp-j5pGEWO",
        "colab_type": "code",
        "outputId": "094e1877-2b23-4b37-ffea-6efc08754e0c",
        "colab": {
          "base_uri": "https://localhost:8080/",
          "height": 479
        }
      },
      "source": [
        "train_data = pd.concat([train_data, train_data.category_name.str.split('/', n = 2, expand=True).rename({0: 'cat_1', 1: 'cat_2', 2: 'cat_3'}, axis=1)], axis=1)\n",
        "display(train_data.head())"
      ],
      "execution_count": 0,
      "outputs": [
        {
          "output_type": "display_data",
          "data": {
            "text/html": [
              "<div>\n",
              "<style scoped>\n",
              "    .dataframe tbody tr th:only-of-type {\n",
              "        vertical-align: middle;\n",
              "    }\n",
              "\n",
              "    .dataframe tbody tr th {\n",
              "        vertical-align: top;\n",
              "    }\n",
              "\n",
              "    .dataframe thead th {\n",
              "        text-align: right;\n",
              "    }\n",
              "</style>\n",
              "<table border=\"1\" class=\"dataframe\">\n",
              "  <thead>\n",
              "    <tr style=\"text-align: right;\">\n",
              "      <th></th>\n",
              "      <th>test_id</th>\n",
              "      <th>name</th>\n",
              "      <th>item_condition_id</th>\n",
              "      <th>category_name</th>\n",
              "      <th>shipping</th>\n",
              "      <th>item_description</th>\n",
              "      <th>item_description_readability_score</th>\n",
              "      <th>desc_len</th>\n",
              "      <th>name_len</th>\n",
              "      <th>item_condition_id_1</th>\n",
              "      <th>item_condition_id_2</th>\n",
              "      <th>item_condition_id_3</th>\n",
              "      <th>item_condition_id_4</th>\n",
              "      <th>item_condition_id_5</th>\n",
              "      <th>cat_1</th>\n",
              "      <th>cat_2</th>\n",
              "      <th>cat_3</th>\n",
              "    </tr>\n",
              "  </thead>\n",
              "  <tbody>\n",
              "    <tr>\n",
              "      <th>0</th>\n",
              "      <td>0</td>\n",
              "      <td>Breast cancer \"I fight like a girl\" ring</td>\n",
              "      <td>1</td>\n",
              "      <td>Women/Jewelry/Rings</td>\n",
              "      <td>1</td>\n",
              "      <td>Size 7</td>\n",
              "      <td>0.80</td>\n",
              "      <td>2</td>\n",
              "      <td>8</td>\n",
              "      <td>1</td>\n",
              "      <td>0</td>\n",
              "      <td>0</td>\n",
              "      <td>0</td>\n",
              "      <td>0</td>\n",
              "      <td>Women</td>\n",
              "      <td>Jewelry</td>\n",
              "      <td>Rings</td>\n",
              "    </tr>\n",
              "    <tr>\n",
              "      <th>1</th>\n",
              "      <td>1</td>\n",
              "      <td>25 pcs NEW 7.5\"x12\" Kraft Bubble Mailers</td>\n",
              "      <td>1</td>\n",
              "      <td>Other/Office supplies/Shipping Supplies</td>\n",
              "      <td>1</td>\n",
              "      <td>25 pcs NEW 7.5\"x12\" Kraft Bubble Mailers Lined...</td>\n",
              "      <td>18.36</td>\n",
              "      <td>38</td>\n",
              "      <td>7</td>\n",
              "      <td>1</td>\n",
              "      <td>0</td>\n",
              "      <td>0</td>\n",
              "      <td>0</td>\n",
              "      <td>0</td>\n",
              "      <td>Other</td>\n",
              "      <td>Office supplies</td>\n",
              "      <td>Shipping Supplies</td>\n",
              "    </tr>\n",
              "    <tr>\n",
              "      <th>2</th>\n",
              "      <td>2</td>\n",
              "      <td>Coach bag Coach</td>\n",
              "      <td>1</td>\n",
              "      <td>Vintage &amp; Collectibles/Bags and Purses/Handbag</td>\n",
              "      <td>1</td>\n",
              "      <td>Brand new coach bag. Bought for [rm] at a Coac...</td>\n",
              "      <td>2.20</td>\n",
              "      <td>11</td>\n",
              "      <td>3</td>\n",
              "      <td>1</td>\n",
              "      <td>0</td>\n",
              "      <td>0</td>\n",
              "      <td>0</td>\n",
              "      <td>0</td>\n",
              "      <td>Vintage &amp; Collectibles</td>\n",
              "      <td>Bags and Purses</td>\n",
              "      <td>Handbag</td>\n",
              "    </tr>\n",
              "    <tr>\n",
              "      <th>3</th>\n",
              "      <td>3</td>\n",
              "      <td>Floral Kimono</td>\n",
              "      <td>2</td>\n",
              "      <td>Women/Sweaters/Cardigan</td>\n",
              "      <td>0</td>\n",
              "      <td>-floral kimono -never worn -lightweight and pe...</td>\n",
              "      <td>4.00</td>\n",
              "      <td>10</td>\n",
              "      <td>2</td>\n",
              "      <td>0</td>\n",
              "      <td>1</td>\n",
              "      <td>0</td>\n",
              "      <td>0</td>\n",
              "      <td>0</td>\n",
              "      <td>Women</td>\n",
              "      <td>Sweaters</td>\n",
              "      <td>Cardigan</td>\n",
              "    </tr>\n",
              "    <tr>\n",
              "      <th>4</th>\n",
              "      <td>4</td>\n",
              "      <td>Life after Death</td>\n",
              "      <td>3</td>\n",
              "      <td>Other/Books/Religion &amp; Spirituality</td>\n",
              "      <td>1</td>\n",
              "      <td>Rediscovering life after the loss of a loved o...</td>\n",
              "      <td>11.32</td>\n",
              "      <td>29</td>\n",
              "      <td>3</td>\n",
              "      <td>0</td>\n",
              "      <td>0</td>\n",
              "      <td>1</td>\n",
              "      <td>0</td>\n",
              "      <td>0</td>\n",
              "      <td>Other</td>\n",
              "      <td>Books</td>\n",
              "      <td>Religion &amp; Spirituality</td>\n",
              "    </tr>\n",
              "  </tbody>\n",
              "</table>\n",
              "</div>"
            ],
            "text/plain": [
              "   test_id  ...                    cat_3\n",
              "0        0  ...                    Rings\n",
              "1        1  ...        Shipping Supplies\n",
              "2        2  ...                  Handbag\n",
              "3        3  ...                 Cardigan\n",
              "4        4  ...  Religion & Spirituality\n",
              "\n",
              "[5 rows x 17 columns]"
            ]
          },
          "metadata": {
            "tags": []
          }
        }
      ]
    },
    {
      "cell_type": "markdown",
      "metadata": {
        "id": "cnIudcz8l4cU",
        "colab_type": "text"
      },
      "source": [
        "#### Prepare Train, Validation and Test sets"
      ]
    },
    {
      "cell_type": "markdown",
      "metadata": {
        "id": "VgzHrxp-JSA4",
        "colab_type": "text"
      },
      "source": [
        "We will split train, validation and test sets in 90:5:5 ratio"
      ]
    },
    {
      "cell_type": "code",
      "metadata": {
        "id": "GtQOaTDci6Pk",
        "colab_type": "code",
        "outputId": "ef337195-4bff-4696-c838-d625fc5e00bd",
        "colab": {
          "base_uri": "https://localhost:8080/",
          "height": 34
        }
      },
      "source": [
        "#Split data into train set first and then split the remaining set into validation and test set.\n",
        "\n",
        "train_df, remaining_df = train_test_split(train_data, random_state=42, train_size=0.9)\n",
        "validation_df, test_df = train_test_split(remaining_df, random_state=42, train_size=0.5)\n",
        "print(\"Datapoints in train, validation and test set: {}, {}, {}\".format(len(train_df), len(validation_df), len(test_df)))"
      ],
      "execution_count": 0,
      "outputs": [
        {
          "output_type": "stream",
          "text": [
            "Datapoints in train, validation and test set: 1333492, 74083, 74083\n"
          ],
          "name": "stdout"
        }
      ]
    },
    {
      "cell_type": "code",
      "metadata": {
        "id": "f4QtnFHDKSUX",
        "colab_type": "code",
        "outputId": "7e1cdce9-86fa-48e8-beb7-d2fbc87ba374",
        "colab": {
          "base_uri": "https://localhost:8080/",
          "height": 411
        }
      },
      "source": [
        "train_df.head()"
      ],
      "execution_count": 0,
      "outputs": [
        {
          "output_type": "execute_result",
          "data": {
            "text/html": [
              "<div>\n",
              "<style scoped>\n",
              "    .dataframe tbody tr th:only-of-type {\n",
              "        vertical-align: middle;\n",
              "    }\n",
              "\n",
              "    .dataframe tbody tr th {\n",
              "        vertical-align: top;\n",
              "    }\n",
              "\n",
              "    .dataframe thead th {\n",
              "        text-align: right;\n",
              "    }\n",
              "</style>\n",
              "<table border=\"1\" class=\"dataframe\">\n",
              "  <thead>\n",
              "    <tr style=\"text-align: right;\">\n",
              "      <th></th>\n",
              "      <th>train_id</th>\n",
              "      <th>name</th>\n",
              "      <th>item_condition_id</th>\n",
              "      <th>category_name</th>\n",
              "      <th>price</th>\n",
              "      <th>shipping</th>\n",
              "      <th>item_description</th>\n",
              "      <th>item_description_readability_score</th>\n",
              "      <th>desc_len</th>\n",
              "      <th>name_len</th>\n",
              "      <th>item_condition_id_1</th>\n",
              "      <th>item_condition_id_2</th>\n",
              "      <th>item_condition_id_3</th>\n",
              "      <th>item_condition_id_4</th>\n",
              "      <th>item_condition_id_5</th>\n",
              "      <th>cat_1</th>\n",
              "      <th>cat_2</th>\n",
              "      <th>cat_3</th>\n",
              "    </tr>\n",
              "  </thead>\n",
              "  <tbody>\n",
              "    <tr>\n",
              "      <th>958469</th>\n",
              "      <td>958469</td>\n",
              "      <td>US soccer Nike jersey Nike</td>\n",
              "      <td>2</td>\n",
              "      <td>Men/Athletic Apparel/Jerseys</td>\n",
              "      <td>-0.305263</td>\n",
              "      <td>1</td>\n",
              "      <td>I found this jersey recently and it's honestly...</td>\n",
              "      <td>6.34</td>\n",
              "      <td>47</td>\n",
              "      <td>5</td>\n",
              "      <td>0</td>\n",
              "      <td>1</td>\n",
              "      <td>0</td>\n",
              "      <td>0</td>\n",
              "      <td>0</td>\n",
              "      <td>Men</td>\n",
              "      <td>Athletic Apparel</td>\n",
              "      <td>Jerseys</td>\n",
              "    </tr>\n",
              "    <tr>\n",
              "      <th>693778</th>\n",
              "      <td>693778</td>\n",
              "      <td>Men's levis 38 32 Levi's®</td>\n",
              "      <td>3</td>\n",
              "      <td>Men/Jeans/Classic, Straight Leg</td>\n",
              "      <td>-0.227319</td>\n",
              "      <td>0</td>\n",
              "      <td>Great condition mens straight leg jeans</td>\n",
              "      <td>9.07</td>\n",
              "      <td>6</td>\n",
              "      <td>5</td>\n",
              "      <td>0</td>\n",
              "      <td>0</td>\n",
              "      <td>1</td>\n",
              "      <td>0</td>\n",
              "      <td>0</td>\n",
              "      <td>Men</td>\n",
              "      <td>Jeans</td>\n",
              "      <td>Classic, Straight Leg</td>\n",
              "    </tr>\n",
              "    <tr>\n",
              "      <th>210050</th>\n",
              "      <td>210050</td>\n",
              "      <td>Nike running hoodie Nike</td>\n",
              "      <td>2</td>\n",
              "      <td>Women/Sweaters/Hooded</td>\n",
              "      <td>-0.045449</td>\n",
              "      <td>1</td>\n",
              "      <td>White size medium dri fit running hoodie. Exce...</td>\n",
              "      <td>5.84</td>\n",
              "      <td>22</td>\n",
              "      <td>4</td>\n",
              "      <td>0</td>\n",
              "      <td>1</td>\n",
              "      <td>0</td>\n",
              "      <td>0</td>\n",
              "      <td>0</td>\n",
              "      <td>Women</td>\n",
              "      <td>Sweaters</td>\n",
              "      <td>Hooded</td>\n",
              "    </tr>\n",
              "    <tr>\n",
              "      <th>447294</th>\n",
              "      <td>447294</td>\n",
              "      <td>betsy johson purse Betsey Johnson</td>\n",
              "      <td>1</td>\n",
              "      <td>Women/Women's Handbags/Shoulder Bag</td>\n",
              "      <td>-0.071430</td>\n",
              "      <td>1</td>\n",
              "      <td>Brand new!! never used perfect condition</td>\n",
              "      <td>9.07</td>\n",
              "      <td>6</td>\n",
              "      <td>5</td>\n",
              "      <td>1</td>\n",
              "      <td>0</td>\n",
              "      <td>0</td>\n",
              "      <td>0</td>\n",
              "      <td>0</td>\n",
              "      <td>Women</td>\n",
              "      <td>Women's Handbags</td>\n",
              "      <td>Shoulder Bag</td>\n",
              "    </tr>\n",
              "    <tr>\n",
              "      <th>1480041</th>\n",
              "      <td>1480041</td>\n",
              "      <td>ORGANIC! EXTREME CLEANING &amp; WHITENING!!</td>\n",
              "      <td>1</td>\n",
              "      <td>Beauty/Bath &amp; Body/Cleansers</td>\n",
              "      <td>-0.357226</td>\n",
              "      <td>1</td>\n",
              "      <td>BLACK is the NEW WHITE! Our Activated Charcoal...</td>\n",
              "      <td>11.99</td>\n",
              "      <td>120</td>\n",
              "      <td>5</td>\n",
              "      <td>1</td>\n",
              "      <td>0</td>\n",
              "      <td>0</td>\n",
              "      <td>0</td>\n",
              "      <td>0</td>\n",
              "      <td>Beauty</td>\n",
              "      <td>Bath &amp; Body</td>\n",
              "      <td>Cleansers</td>\n",
              "    </tr>\n",
              "  </tbody>\n",
              "</table>\n",
              "</div>"
            ],
            "text/plain": [
              "         train_id  ...                  cat_3\n",
              "958469     958469  ...                Jerseys\n",
              "693778     693778  ...  Classic, Straight Leg\n",
              "210050     210050  ...                 Hooded\n",
              "447294     447294  ...           Shoulder Bag\n",
              "1480041   1480041  ...              Cleansers\n",
              "\n",
              "[5 rows x 18 columns]"
            ]
          },
          "metadata": {
            "tags": []
          },
          "execution_count": 31
        }
      ]
    },
    {
      "cell_type": "markdown",
      "metadata": {
        "id": "Z3qrsvEuJKo8",
        "colab_type": "text"
      },
      "source": [
        "#### Save dataset using pickle "
      ]
    },
    {
      "cell_type": "code",
      "metadata": {
        "id": "mSJzqPt1-Iz-",
        "colab_type": "code",
        "colab": {}
      },
      "source": [
        "#save the dataset using pickle\n",
        "train_data.to_pickle(input_folder + 'dumps/whole_data.pkl') \n",
        "train_df.to_pickle(input_folder + 'dumps/train_data.pkl')\n",
        "validation_df.to_pickle(input_folder + 'dumps/validation_data.pkl')\n",
        "test_df.to_pickle(input_folder + 'dumps/test_data.pkl')"
      ],
      "execution_count": 0,
      "outputs": []
    }
  ]
}